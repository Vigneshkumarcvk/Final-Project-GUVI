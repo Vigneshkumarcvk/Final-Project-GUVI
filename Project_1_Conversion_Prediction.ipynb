{
  "nbformat": 4,
  "nbformat_minor": 0,
  "metadata": {
    "colab": {
      "provenance": [],
      "authorship_tag": "ABX9TyNmHb7n64Bg+fo+7MAoMkae",
      "include_colab_link": true
    },
    "kernelspec": {
      "name": "python3",
      "display_name": "Python 3"
    },
    "language_info": {
      "name": "python"
    }
  },
  "cells": [
    {
      "cell_type": "markdown",
      "metadata": {
        "id": "view-in-github",
        "colab_type": "text"
      },
      "source": [
        "<a href=\"https://colab.research.google.com/github/Vigneshkumarcvk/Final-Project-GUVI/blob/main/Project_1_Conversion_Prediction.ipynb\" target=\"_parent\"><img src=\"https://colab.research.google.com/assets/colab-badge.svg\" alt=\"Open In Colab\"/></a>"
      ]
    },
    {
      "cell_type": "markdown",
      "metadata": {
        "id": "NMP_FxWRjIkL"
      },
      "source": [
        "Importing Packages"
      ]
    },
    {
      "cell_type": "code",
      "execution_count": 285,
      "metadata": {
        "id": "g0j6Pw8djIkM"
      },
      "outputs": [],
      "source": [
        "import numpy as np\n",
        "import pandas as pd\n",
        "import matplotlib.pyplot as plt\n",
        "import seaborn as sns\n",
        "from sklearn.preprocessing import LabelEncoder\n",
        "from sklearn.model_selection import train_test_split"
      ]
    },
    {
      "cell_type": "markdown",
      "metadata": {
        "id": "BsB8PSnejIkM"
      },
      "source": [
        "Loading Data"
      ]
    },
    {
      "cell_type": "code",
      "execution_count": 286,
      "metadata": {
        "id": "6FnANlRojIkM"
      },
      "outputs": [],
      "source": [
        "df = pd.read_csv(\"train.csv\")"
      ]
    },
    {
      "cell_type": "code",
      "execution_count": 287,
      "metadata": {
        "colab": {
          "base_uri": "https://localhost:8080/",
          "height": 206
        },
        "outputId": "9a2ae633-ac53-4910-804b-3e7219c5dcdc",
        "id": "ucpaJ--PjIkN"
      },
      "outputs": [
        {
          "output_type": "execute_result",
          "data": {
            "text/plain": [
              "   age           job  marital education_qual call_type  day  mon  dur  \\\n",
              "0   58    management  married       tertiary   unknown    5  may  261   \n",
              "1   44    technician   single      secondary   unknown    5  may  151   \n",
              "2   33  entrepreneur  married      secondary   unknown    5  may   76   \n",
              "3   47   blue-collar  married        unknown   unknown    5  may   92   \n",
              "4   33       unknown   single        unknown   unknown    5  may  198   \n",
              "\n",
              "   num_calls prev_outcome   y  \n",
              "0          1      unknown  no  \n",
              "1          1      unknown  no  \n",
              "2          1      unknown  no  \n",
              "3          1      unknown  no  \n",
              "4          1      unknown  no  "
            ],
            "text/html": [
              "\n",
              "  <div id=\"df-5b36e72f-b791-4ad5-ac19-fd10b74fa3c4\">\n",
              "    <div class=\"colab-df-container\">\n",
              "      <div>\n",
              "<style scoped>\n",
              "    .dataframe tbody tr th:only-of-type {\n",
              "        vertical-align: middle;\n",
              "    }\n",
              "\n",
              "    .dataframe tbody tr th {\n",
              "        vertical-align: top;\n",
              "    }\n",
              "\n",
              "    .dataframe thead th {\n",
              "        text-align: right;\n",
              "    }\n",
              "</style>\n",
              "<table border=\"1\" class=\"dataframe\">\n",
              "  <thead>\n",
              "    <tr style=\"text-align: right;\">\n",
              "      <th></th>\n",
              "      <th>age</th>\n",
              "      <th>job</th>\n",
              "      <th>marital</th>\n",
              "      <th>education_qual</th>\n",
              "      <th>call_type</th>\n",
              "      <th>day</th>\n",
              "      <th>mon</th>\n",
              "      <th>dur</th>\n",
              "      <th>num_calls</th>\n",
              "      <th>prev_outcome</th>\n",
              "      <th>y</th>\n",
              "    </tr>\n",
              "  </thead>\n",
              "  <tbody>\n",
              "    <tr>\n",
              "      <th>0</th>\n",
              "      <td>58</td>\n",
              "      <td>management</td>\n",
              "      <td>married</td>\n",
              "      <td>tertiary</td>\n",
              "      <td>unknown</td>\n",
              "      <td>5</td>\n",
              "      <td>may</td>\n",
              "      <td>261</td>\n",
              "      <td>1</td>\n",
              "      <td>unknown</td>\n",
              "      <td>no</td>\n",
              "    </tr>\n",
              "    <tr>\n",
              "      <th>1</th>\n",
              "      <td>44</td>\n",
              "      <td>technician</td>\n",
              "      <td>single</td>\n",
              "      <td>secondary</td>\n",
              "      <td>unknown</td>\n",
              "      <td>5</td>\n",
              "      <td>may</td>\n",
              "      <td>151</td>\n",
              "      <td>1</td>\n",
              "      <td>unknown</td>\n",
              "      <td>no</td>\n",
              "    </tr>\n",
              "    <tr>\n",
              "      <th>2</th>\n",
              "      <td>33</td>\n",
              "      <td>entrepreneur</td>\n",
              "      <td>married</td>\n",
              "      <td>secondary</td>\n",
              "      <td>unknown</td>\n",
              "      <td>5</td>\n",
              "      <td>may</td>\n",
              "      <td>76</td>\n",
              "      <td>1</td>\n",
              "      <td>unknown</td>\n",
              "      <td>no</td>\n",
              "    </tr>\n",
              "    <tr>\n",
              "      <th>3</th>\n",
              "      <td>47</td>\n",
              "      <td>blue-collar</td>\n",
              "      <td>married</td>\n",
              "      <td>unknown</td>\n",
              "      <td>unknown</td>\n",
              "      <td>5</td>\n",
              "      <td>may</td>\n",
              "      <td>92</td>\n",
              "      <td>1</td>\n",
              "      <td>unknown</td>\n",
              "      <td>no</td>\n",
              "    </tr>\n",
              "    <tr>\n",
              "      <th>4</th>\n",
              "      <td>33</td>\n",
              "      <td>unknown</td>\n",
              "      <td>single</td>\n",
              "      <td>unknown</td>\n",
              "      <td>unknown</td>\n",
              "      <td>5</td>\n",
              "      <td>may</td>\n",
              "      <td>198</td>\n",
              "      <td>1</td>\n",
              "      <td>unknown</td>\n",
              "      <td>no</td>\n",
              "    </tr>\n",
              "  </tbody>\n",
              "</table>\n",
              "</div>\n",
              "      <button class=\"colab-df-convert\" onclick=\"convertToInteractive('df-5b36e72f-b791-4ad5-ac19-fd10b74fa3c4')\"\n",
              "              title=\"Convert this dataframe to an interactive table.\"\n",
              "              style=\"display:none;\">\n",
              "        \n",
              "  <svg xmlns=\"http://www.w3.org/2000/svg\" height=\"24px\"viewBox=\"0 0 24 24\"\n",
              "       width=\"24px\">\n",
              "    <path d=\"M0 0h24v24H0V0z\" fill=\"none\"/>\n",
              "    <path d=\"M18.56 5.44l.94 2.06.94-2.06 2.06-.94-2.06-.94-.94-2.06-.94 2.06-2.06.94zm-11 1L8.5 8.5l.94-2.06 2.06-.94-2.06-.94L8.5 2.5l-.94 2.06-2.06.94zm10 10l.94 2.06.94-2.06 2.06-.94-2.06-.94-.94-2.06-.94 2.06-2.06.94z\"/><path d=\"M17.41 7.96l-1.37-1.37c-.4-.4-.92-.59-1.43-.59-.52 0-1.04.2-1.43.59L10.3 9.45l-7.72 7.72c-.78.78-.78 2.05 0 2.83L4 21.41c.39.39.9.59 1.41.59.51 0 1.02-.2 1.41-.59l7.78-7.78 2.81-2.81c.8-.78.8-2.07 0-2.86zM5.41 20L4 18.59l7.72-7.72 1.47 1.35L5.41 20z\"/>\n",
              "  </svg>\n",
              "      </button>\n",
              "      \n",
              "  <style>\n",
              "    .colab-df-container {\n",
              "      display:flex;\n",
              "      flex-wrap:wrap;\n",
              "      gap: 12px;\n",
              "    }\n",
              "\n",
              "    .colab-df-convert {\n",
              "      background-color: #E8F0FE;\n",
              "      border: none;\n",
              "      border-radius: 50%;\n",
              "      cursor: pointer;\n",
              "      display: none;\n",
              "      fill: #1967D2;\n",
              "      height: 32px;\n",
              "      padding: 0 0 0 0;\n",
              "      width: 32px;\n",
              "    }\n",
              "\n",
              "    .colab-df-convert:hover {\n",
              "      background-color: #E2EBFA;\n",
              "      box-shadow: 0px 1px 2px rgba(60, 64, 67, 0.3), 0px 1px 3px 1px rgba(60, 64, 67, 0.15);\n",
              "      fill: #174EA6;\n",
              "    }\n",
              "\n",
              "    [theme=dark] .colab-df-convert {\n",
              "      background-color: #3B4455;\n",
              "      fill: #D2E3FC;\n",
              "    }\n",
              "\n",
              "    [theme=dark] .colab-df-convert:hover {\n",
              "      background-color: #434B5C;\n",
              "      box-shadow: 0px 1px 3px 1px rgba(0, 0, 0, 0.15);\n",
              "      filter: drop-shadow(0px 1px 2px rgba(0, 0, 0, 0.3));\n",
              "      fill: #FFFFFF;\n",
              "    }\n",
              "  </style>\n",
              "\n",
              "      <script>\n",
              "        const buttonEl =\n",
              "          document.querySelector('#df-5b36e72f-b791-4ad5-ac19-fd10b74fa3c4 button.colab-df-convert');\n",
              "        buttonEl.style.display =\n",
              "          google.colab.kernel.accessAllowed ? 'block' : 'none';\n",
              "\n",
              "        async function convertToInteractive(key) {\n",
              "          const element = document.querySelector('#df-5b36e72f-b791-4ad5-ac19-fd10b74fa3c4');\n",
              "          const dataTable =\n",
              "            await google.colab.kernel.invokeFunction('convertToInteractive',\n",
              "                                                     [key], {});\n",
              "          if (!dataTable) return;\n",
              "\n",
              "          const docLinkHtml = 'Like what you see? Visit the ' +\n",
              "            '<a target=\"_blank\" href=https://colab.research.google.com/notebooks/data_table.ipynb>data table notebook</a>'\n",
              "            + ' to learn more about interactive tables.';\n",
              "          element.innerHTML = '';\n",
              "          dataTable['output_type'] = 'display_data';\n",
              "          await google.colab.output.renderOutput(dataTable, element);\n",
              "          const docLink = document.createElement('div');\n",
              "          docLink.innerHTML = docLinkHtml;\n",
              "          element.appendChild(docLink);\n",
              "        }\n",
              "      </script>\n",
              "    </div>\n",
              "  </div>\n",
              "  "
            ]
          },
          "metadata": {},
          "execution_count": 287
        }
      ],
      "source": [
        "df.head()"
      ]
    },
    {
      "cell_type": "code",
      "execution_count": 288,
      "metadata": {
        "colab": {
          "base_uri": "https://localhost:8080/",
          "height": 423
        },
        "outputId": "b0e4f620-6505-4e67-f608-10f75bad8e36",
        "id": "AKYHWs1rjIkN"
      },
      "outputs": [
        {
          "output_type": "execute_result",
          "data": {
            "text/plain": [
              "       age           job   marital education_qual  call_type  day  mon   dur  \\\n",
              "0       58    management   married       tertiary    unknown    5  may   261   \n",
              "1       44    technician    single      secondary    unknown    5  may   151   \n",
              "2       33  entrepreneur   married      secondary    unknown    5  may    76   \n",
              "3       47   blue-collar   married        unknown    unknown    5  may    92   \n",
              "4       33       unknown    single        unknown    unknown    5  may   198   \n",
              "...    ...           ...       ...            ...        ...  ...  ...   ...   \n",
              "45206   51    technician   married       tertiary   cellular   17  nov   977   \n",
              "45207   71       retired  divorced        primary   cellular   17  nov   456   \n",
              "45208   72       retired   married      secondary   cellular   17  nov  1127   \n",
              "45209   57   blue-collar   married      secondary  telephone   17  nov   508   \n",
              "45210   37  entrepreneur   married      secondary   cellular   17  nov   361   \n",
              "\n",
              "       num_calls prev_outcome    y  \n",
              "0              1      unknown   no  \n",
              "1              1      unknown   no  \n",
              "2              1      unknown   no  \n",
              "3              1      unknown   no  \n",
              "4              1      unknown   no  \n",
              "...          ...          ...  ...  \n",
              "45206          3      unknown  yes  \n",
              "45207          2      unknown  yes  \n",
              "45208          5      success  yes  \n",
              "45209          4      unknown   no  \n",
              "45210          2        other   no  \n",
              "\n",
              "[45211 rows x 11 columns]"
            ],
            "text/html": [
              "\n",
              "  <div id=\"df-164514c2-eb96-4d42-8344-0e4f42d7c86a\">\n",
              "    <div class=\"colab-df-container\">\n",
              "      <div>\n",
              "<style scoped>\n",
              "    .dataframe tbody tr th:only-of-type {\n",
              "        vertical-align: middle;\n",
              "    }\n",
              "\n",
              "    .dataframe tbody tr th {\n",
              "        vertical-align: top;\n",
              "    }\n",
              "\n",
              "    .dataframe thead th {\n",
              "        text-align: right;\n",
              "    }\n",
              "</style>\n",
              "<table border=\"1\" class=\"dataframe\">\n",
              "  <thead>\n",
              "    <tr style=\"text-align: right;\">\n",
              "      <th></th>\n",
              "      <th>age</th>\n",
              "      <th>job</th>\n",
              "      <th>marital</th>\n",
              "      <th>education_qual</th>\n",
              "      <th>call_type</th>\n",
              "      <th>day</th>\n",
              "      <th>mon</th>\n",
              "      <th>dur</th>\n",
              "      <th>num_calls</th>\n",
              "      <th>prev_outcome</th>\n",
              "      <th>y</th>\n",
              "    </tr>\n",
              "  </thead>\n",
              "  <tbody>\n",
              "    <tr>\n",
              "      <th>0</th>\n",
              "      <td>58</td>\n",
              "      <td>management</td>\n",
              "      <td>married</td>\n",
              "      <td>tertiary</td>\n",
              "      <td>unknown</td>\n",
              "      <td>5</td>\n",
              "      <td>may</td>\n",
              "      <td>261</td>\n",
              "      <td>1</td>\n",
              "      <td>unknown</td>\n",
              "      <td>no</td>\n",
              "    </tr>\n",
              "    <tr>\n",
              "      <th>1</th>\n",
              "      <td>44</td>\n",
              "      <td>technician</td>\n",
              "      <td>single</td>\n",
              "      <td>secondary</td>\n",
              "      <td>unknown</td>\n",
              "      <td>5</td>\n",
              "      <td>may</td>\n",
              "      <td>151</td>\n",
              "      <td>1</td>\n",
              "      <td>unknown</td>\n",
              "      <td>no</td>\n",
              "    </tr>\n",
              "    <tr>\n",
              "      <th>2</th>\n",
              "      <td>33</td>\n",
              "      <td>entrepreneur</td>\n",
              "      <td>married</td>\n",
              "      <td>secondary</td>\n",
              "      <td>unknown</td>\n",
              "      <td>5</td>\n",
              "      <td>may</td>\n",
              "      <td>76</td>\n",
              "      <td>1</td>\n",
              "      <td>unknown</td>\n",
              "      <td>no</td>\n",
              "    </tr>\n",
              "    <tr>\n",
              "      <th>3</th>\n",
              "      <td>47</td>\n",
              "      <td>blue-collar</td>\n",
              "      <td>married</td>\n",
              "      <td>unknown</td>\n",
              "      <td>unknown</td>\n",
              "      <td>5</td>\n",
              "      <td>may</td>\n",
              "      <td>92</td>\n",
              "      <td>1</td>\n",
              "      <td>unknown</td>\n",
              "      <td>no</td>\n",
              "    </tr>\n",
              "    <tr>\n",
              "      <th>4</th>\n",
              "      <td>33</td>\n",
              "      <td>unknown</td>\n",
              "      <td>single</td>\n",
              "      <td>unknown</td>\n",
              "      <td>unknown</td>\n",
              "      <td>5</td>\n",
              "      <td>may</td>\n",
              "      <td>198</td>\n",
              "      <td>1</td>\n",
              "      <td>unknown</td>\n",
              "      <td>no</td>\n",
              "    </tr>\n",
              "    <tr>\n",
              "      <th>...</th>\n",
              "      <td>...</td>\n",
              "      <td>...</td>\n",
              "      <td>...</td>\n",
              "      <td>...</td>\n",
              "      <td>...</td>\n",
              "      <td>...</td>\n",
              "      <td>...</td>\n",
              "      <td>...</td>\n",
              "      <td>...</td>\n",
              "      <td>...</td>\n",
              "      <td>...</td>\n",
              "    </tr>\n",
              "    <tr>\n",
              "      <th>45206</th>\n",
              "      <td>51</td>\n",
              "      <td>technician</td>\n",
              "      <td>married</td>\n",
              "      <td>tertiary</td>\n",
              "      <td>cellular</td>\n",
              "      <td>17</td>\n",
              "      <td>nov</td>\n",
              "      <td>977</td>\n",
              "      <td>3</td>\n",
              "      <td>unknown</td>\n",
              "      <td>yes</td>\n",
              "    </tr>\n",
              "    <tr>\n",
              "      <th>45207</th>\n",
              "      <td>71</td>\n",
              "      <td>retired</td>\n",
              "      <td>divorced</td>\n",
              "      <td>primary</td>\n",
              "      <td>cellular</td>\n",
              "      <td>17</td>\n",
              "      <td>nov</td>\n",
              "      <td>456</td>\n",
              "      <td>2</td>\n",
              "      <td>unknown</td>\n",
              "      <td>yes</td>\n",
              "    </tr>\n",
              "    <tr>\n",
              "      <th>45208</th>\n",
              "      <td>72</td>\n",
              "      <td>retired</td>\n",
              "      <td>married</td>\n",
              "      <td>secondary</td>\n",
              "      <td>cellular</td>\n",
              "      <td>17</td>\n",
              "      <td>nov</td>\n",
              "      <td>1127</td>\n",
              "      <td>5</td>\n",
              "      <td>success</td>\n",
              "      <td>yes</td>\n",
              "    </tr>\n",
              "    <tr>\n",
              "      <th>45209</th>\n",
              "      <td>57</td>\n",
              "      <td>blue-collar</td>\n",
              "      <td>married</td>\n",
              "      <td>secondary</td>\n",
              "      <td>telephone</td>\n",
              "      <td>17</td>\n",
              "      <td>nov</td>\n",
              "      <td>508</td>\n",
              "      <td>4</td>\n",
              "      <td>unknown</td>\n",
              "      <td>no</td>\n",
              "    </tr>\n",
              "    <tr>\n",
              "      <th>45210</th>\n",
              "      <td>37</td>\n",
              "      <td>entrepreneur</td>\n",
              "      <td>married</td>\n",
              "      <td>secondary</td>\n",
              "      <td>cellular</td>\n",
              "      <td>17</td>\n",
              "      <td>nov</td>\n",
              "      <td>361</td>\n",
              "      <td>2</td>\n",
              "      <td>other</td>\n",
              "      <td>no</td>\n",
              "    </tr>\n",
              "  </tbody>\n",
              "</table>\n",
              "<p>45211 rows × 11 columns</p>\n",
              "</div>\n",
              "      <button class=\"colab-df-convert\" onclick=\"convertToInteractive('df-164514c2-eb96-4d42-8344-0e4f42d7c86a')\"\n",
              "              title=\"Convert this dataframe to an interactive table.\"\n",
              "              style=\"display:none;\">\n",
              "        \n",
              "  <svg xmlns=\"http://www.w3.org/2000/svg\" height=\"24px\"viewBox=\"0 0 24 24\"\n",
              "       width=\"24px\">\n",
              "    <path d=\"M0 0h24v24H0V0z\" fill=\"none\"/>\n",
              "    <path d=\"M18.56 5.44l.94 2.06.94-2.06 2.06-.94-2.06-.94-.94-2.06-.94 2.06-2.06.94zm-11 1L8.5 8.5l.94-2.06 2.06-.94-2.06-.94L8.5 2.5l-.94 2.06-2.06.94zm10 10l.94 2.06.94-2.06 2.06-.94-2.06-.94-.94-2.06-.94 2.06-2.06.94z\"/><path d=\"M17.41 7.96l-1.37-1.37c-.4-.4-.92-.59-1.43-.59-.52 0-1.04.2-1.43.59L10.3 9.45l-7.72 7.72c-.78.78-.78 2.05 0 2.83L4 21.41c.39.39.9.59 1.41.59.51 0 1.02-.2 1.41-.59l7.78-7.78 2.81-2.81c.8-.78.8-2.07 0-2.86zM5.41 20L4 18.59l7.72-7.72 1.47 1.35L5.41 20z\"/>\n",
              "  </svg>\n",
              "      </button>\n",
              "      \n",
              "  <style>\n",
              "    .colab-df-container {\n",
              "      display:flex;\n",
              "      flex-wrap:wrap;\n",
              "      gap: 12px;\n",
              "    }\n",
              "\n",
              "    .colab-df-convert {\n",
              "      background-color: #E8F0FE;\n",
              "      border: none;\n",
              "      border-radius: 50%;\n",
              "      cursor: pointer;\n",
              "      display: none;\n",
              "      fill: #1967D2;\n",
              "      height: 32px;\n",
              "      padding: 0 0 0 0;\n",
              "      width: 32px;\n",
              "    }\n",
              "\n",
              "    .colab-df-convert:hover {\n",
              "      background-color: #E2EBFA;\n",
              "      box-shadow: 0px 1px 2px rgba(60, 64, 67, 0.3), 0px 1px 3px 1px rgba(60, 64, 67, 0.15);\n",
              "      fill: #174EA6;\n",
              "    }\n",
              "\n",
              "    [theme=dark] .colab-df-convert {\n",
              "      background-color: #3B4455;\n",
              "      fill: #D2E3FC;\n",
              "    }\n",
              "\n",
              "    [theme=dark] .colab-df-convert:hover {\n",
              "      background-color: #434B5C;\n",
              "      box-shadow: 0px 1px 3px 1px rgba(0, 0, 0, 0.15);\n",
              "      filter: drop-shadow(0px 1px 2px rgba(0, 0, 0, 0.3));\n",
              "      fill: #FFFFFF;\n",
              "    }\n",
              "  </style>\n",
              "\n",
              "      <script>\n",
              "        const buttonEl =\n",
              "          document.querySelector('#df-164514c2-eb96-4d42-8344-0e4f42d7c86a button.colab-df-convert');\n",
              "        buttonEl.style.display =\n",
              "          google.colab.kernel.accessAllowed ? 'block' : 'none';\n",
              "\n",
              "        async function convertToInteractive(key) {\n",
              "          const element = document.querySelector('#df-164514c2-eb96-4d42-8344-0e4f42d7c86a');\n",
              "          const dataTable =\n",
              "            await google.colab.kernel.invokeFunction('convertToInteractive',\n",
              "                                                     [key], {});\n",
              "          if (!dataTable) return;\n",
              "\n",
              "          const docLinkHtml = 'Like what you see? Visit the ' +\n",
              "            '<a target=\"_blank\" href=https://colab.research.google.com/notebooks/data_table.ipynb>data table notebook</a>'\n",
              "            + ' to learn more about interactive tables.';\n",
              "          element.innerHTML = '';\n",
              "          dataTable['output_type'] = 'display_data';\n",
              "          await google.colab.output.renderOutput(dataTable, element);\n",
              "          const docLink = document.createElement('div');\n",
              "          docLink.innerHTML = docLinkHtml;\n",
              "          element.appendChild(docLink);\n",
              "        }\n",
              "      </script>\n",
              "    </div>\n",
              "  </div>\n",
              "  "
            ]
          },
          "metadata": {},
          "execution_count": 288
        }
      ],
      "source": [
        "df"
      ]
    },
    {
      "cell_type": "markdown",
      "metadata": {
        "id": "p21DMaKZjIkN"
      },
      "source": [
        "Cleaning"
      ]
    },
    {
      "cell_type": "code",
      "execution_count": 289,
      "metadata": {
        "colab": {
          "base_uri": "https://localhost:8080/"
        },
        "outputId": "0cc0cade-4c68-46ea-94f4-cbd862b0253b",
        "id": "WcKJltn0jIkO"
      },
      "outputs": [
        {
          "output_type": "stream",
          "name": "stdout",
          "text": [
            "<class 'pandas.core.frame.DataFrame'>\n",
            "RangeIndex: 45211 entries, 0 to 45210\n",
            "Data columns (total 11 columns):\n",
            " #   Column          Non-Null Count  Dtype \n",
            "---  ------          --------------  ----- \n",
            " 0   age             45211 non-null  int64 \n",
            " 1   job             45211 non-null  object\n",
            " 2   marital         45211 non-null  object\n",
            " 3   education_qual  45211 non-null  object\n",
            " 4   call_type       45211 non-null  object\n",
            " 5   day             45211 non-null  int64 \n",
            " 6   mon             45211 non-null  object\n",
            " 7   dur             45211 non-null  int64 \n",
            " 8   num_calls       45211 non-null  int64 \n",
            " 9   prev_outcome    45211 non-null  object\n",
            " 10  y               45211 non-null  object\n",
            "dtypes: int64(4), object(7)\n",
            "memory usage: 3.8+ MB\n"
          ]
        }
      ],
      "source": [
        "df.info()"
      ]
    },
    {
      "cell_type": "code",
      "execution_count": 290,
      "metadata": {
        "colab": {
          "base_uri": "https://localhost:8080/"
        },
        "outputId": "df6e1503-0f8c-46b3-836d-c7f49f4e8ed2",
        "id": "0vttRghkjIkO"
      },
      "outputs": [
        {
          "output_type": "execute_result",
          "data": {
            "text/plain": [
              "Index(['age', 'job', 'marital', 'education_qual', 'call_type', 'day', 'mon',\n",
              "       'dur', 'num_calls', 'prev_outcome', 'y'],\n",
              "      dtype='object')"
            ]
          },
          "metadata": {},
          "execution_count": 290
        }
      ],
      "source": [
        "df.columns"
      ]
    },
    {
      "cell_type": "code",
      "execution_count": 291,
      "metadata": {
        "colab": {
          "base_uri": "https://localhost:8080/"
        },
        "outputId": "c6fc1d09-5162-4bc6-dd62-d16151556bae",
        "id": "kQ2f1tL5jIkO"
      },
      "outputs": [
        {
          "output_type": "execute_result",
          "data": {
            "text/plain": [
              "age               0\n",
              "job               0\n",
              "marital           0\n",
              "education_qual    0\n",
              "call_type         0\n",
              "day               0\n",
              "mon               0\n",
              "dur               0\n",
              "num_calls         0\n",
              "prev_outcome      0\n",
              "y                 0\n",
              "dtype: int64"
            ]
          },
          "metadata": {},
          "execution_count": 291
        }
      ],
      "source": [
        "df.isnull().sum()"
      ]
    },
    {
      "cell_type": "code",
      "execution_count": 292,
      "metadata": {
        "colab": {
          "base_uri": "https://localhost:8080/"
        },
        "outputId": "6aa0d65e-b0fb-41f0-8519-f1d86c67ae97",
        "id": "7hUKhfmbjIkO"
      },
      "outputs": [
        {
          "output_type": "execute_result",
          "data": {
            "text/plain": [
              "(45211, 11)"
            ]
          },
          "metadata": {},
          "execution_count": 292
        }
      ],
      "source": [
        "df.shape"
      ]
    },
    {
      "cell_type": "code",
      "execution_count": 293,
      "metadata": {
        "colab": {
          "base_uri": "https://localhost:8080/"
        },
        "outputId": "e52d8f7f-f36c-447d-a753-ea6aa7faacb5",
        "id": "0AASyl3RjIkP"
      },
      "outputs": [
        {
          "output_type": "execute_result",
          "data": {
            "text/plain": [
              "(12, 3, 4, 3, 4, 12, 31, 48)"
            ]
          },
          "metadata": {},
          "execution_count": 293
        }
      ],
      "source": [
        " df['job'].nunique(),df['marital'].nunique(),df['education_qual'].nunique(),df['call_type'].nunique(),df['prev_outcome'].nunique(),df['mon'].nunique(),df['day'].nunique(),df['num_calls'].nunique()"
      ]
    },
    {
      "cell_type": "code",
      "execution_count": 294,
      "metadata": {
        "colab": {
          "base_uri": "https://localhost:8080/"
        },
        "outputId": "15b53b70-08bc-4226-b294-99da0cce8651",
        "id": "HX23O6-EjIkP"
      },
      "outputs": [
        {
          "output_type": "execute_result",
          "data": {
            "text/plain": [
              "(array(['management', 'technician', 'entrepreneur', 'blue-collar',\n",
              "        'unknown', 'retired', 'admin.', 'services', 'self-employed',\n",
              "        'unemployed', 'housemaid', 'student'], dtype=object),\n",
              " array(['unknown', 'failure', 'other', 'success'], dtype=object),\n",
              " array(['married', 'single', 'divorced'], dtype=object),\n",
              " array(['tertiary', 'secondary', 'unknown', 'primary'], dtype=object),\n",
              " array(['unknown', 'cellular', 'telephone'], dtype=object),\n",
              " array(['may', 'jun', 'jul', 'aug', 'oct', 'nov', 'dec', 'jan', 'feb',\n",
              "        'mar', 'apr', 'sep'], dtype=object))"
            ]
          },
          "metadata": {},
          "execution_count": 294
        }
      ],
      "source": [
        "df.job.unique(),df.prev_outcome.unique(), df.marital.unique(),df.education_qual.unique(),df.call_type.unique(),df.mon.unique()"
      ]
    },
    {
      "cell_type": "code",
      "execution_count": 295,
      "metadata": {
        "colab": {
          "base_uri": "https://localhost:8080/"
        },
        "outputId": "0d22e017-daa4-45f9-b144-46271ce024f5",
        "id": "71Hv0P7-jIkP"
      },
      "outputs": [
        {
          "output_type": "execute_result",
          "data": {
            "text/plain": [
              "(array([58, 44, 33, 47, 35, 28, 42, 43, 41, 29, 53, 57, 51, 45, 60, 56, 32,\n",
              "        25, 40, 39, 52, 46, 36, 49, 59, 37, 50, 54, 55, 48, 24, 38, 31, 30,\n",
              "        27, 34, 23, 26, 61, 22, 21, 20, 66, 62, 83, 75, 67, 70, 65, 68, 64,\n",
              "        69, 72, 71, 19, 76, 85, 63, 90, 82, 73, 74, 78, 80, 94, 79, 77, 86,\n",
              "        95, 81, 18, 89, 84, 87, 92, 93, 88]),\n",
              " array([ 1,  2,  3,  5,  4,  6,  7,  8,  9, 10, 11, 12, 13, 19, 14, 24, 16,\n",
              "        32, 18, 22, 15, 17, 25, 21, 43, 51, 63, 41, 26, 28, 55, 50, 38, 23,\n",
              "        20, 29, 31, 37, 30, 46, 27, 58, 33, 35, 34, 36, 39, 44]),\n",
              " array([ 5,  6,  7,  8,  9, 12, 13, 14, 15, 16, 19, 20, 21, 23, 26, 27, 28,\n",
              "        29, 30,  2,  3,  4, 11, 17, 18, 24, 25,  1, 10, 22, 31]),\n",
              " array([ 261,  151,   76, ..., 1298, 1246, 1556]))"
            ]
          },
          "metadata": {},
          "execution_count": 295
        }
      ],
      "source": [
        "df.age.unique(),df.num_calls.unique(),df.day.unique(),df.dur.unique()"
      ]
    },
    {
      "cell_type": "code",
      "execution_count": 296,
      "metadata": {
        "colab": {
          "base_uri": "https://localhost:8080/"
        },
        "outputId": "98fdb1c9-9176-42a0-e1c1-ef17011e5e8a",
        "id": "UI8OSZwbjIkQ"
      },
      "outputs": [
        {
          "output_type": "execute_result",
          "data": {
            "text/plain": [
              "age  job          marital  education_qual  call_type  day  mon  dur  num_calls  prev_outcome  y \n",
              "29   admin.       single   secondary       unknown    2    jun  121  4          unknown       no    2\n",
              "39   blue-collar  married  primary         unknown    19   jun  112  4          unknown       no    2\n",
              "36   management   married  tertiary        cellular   8    aug  75   2          unknown       no    2\n",
              "34   services     married  secondary       unknown    28   may  124  1          unknown       no    2\n",
              "36   blue-collar  married  secondary       cellular   9    jul  183  1          unknown       no    2\n",
              "                                                                                                   ..\n",
              "35   admin.       married  secondary       cellular   13   may  249  2          failure       no    1\n",
              "                                                      14   may  125  1          failure       no    1\n",
              "                                                                171  4          unknown       no    1\n",
              "                                                      15   apr  343  2          failure       no    1\n",
              "95   retired      married  secondary       telephone  1    oct  215  1          unknown       no    1\n",
              "Length: 45205, dtype: int64"
            ]
          },
          "metadata": {},
          "execution_count": 296
        }
      ],
      "source": [
        "df.value_counts()"
      ]
    },
    {
      "cell_type": "code",
      "execution_count": 297,
      "metadata": {
        "colab": {
          "base_uri": "https://localhost:8080/"
        },
        "outputId": "8674e3fb-ce9b-4a8b-f191-90ff65174161",
        "id": "ZfGN9FTcjIkQ"
      },
      "outputs": [
        {
          "output_type": "execute_result",
          "data": {
            "text/plain": [
              "married     27214\n",
              "single      12790\n",
              "divorced     5207\n",
              "Name: marital, dtype: int64"
            ]
          },
          "metadata": {},
          "execution_count": 297
        }
      ],
      "source": [
        "df['marital'].value_counts()"
      ]
    },
    {
      "cell_type": "code",
      "execution_count": 298,
      "metadata": {
        "colab": {
          "base_uri": "https://localhost:8080/"
        },
        "outputId": "6d781d34-1fc9-483a-c4e6-02ccade4f5f5",
        "id": "w49tXqXfjIkQ"
      },
      "outputs": [
        {
          "output_type": "execute_result",
          "data": {
            "text/plain": [
              "20    2752\n",
              "18    2308\n",
              "21    2026\n",
              "17    1939\n",
              "6     1932\n",
              "5     1910\n",
              "14    1848\n",
              "8     1842\n",
              "28    1830\n",
              "7     1817\n",
              "19    1757\n",
              "29    1745\n",
              "15    1703\n",
              "12    1603\n",
              "13    1585\n",
              "30    1566\n",
              "9     1561\n",
              "11    1479\n",
              "4     1445\n",
              "16    1415\n",
              "2     1293\n",
              "27    1121\n",
              "3     1079\n",
              "26    1035\n",
              "23     939\n",
              "22     905\n",
              "25     840\n",
              "31     643\n",
              "10     524\n",
              "24     447\n",
              "1      322\n",
              "Name: day, dtype: int64"
            ]
          },
          "metadata": {},
          "execution_count": 298
        }
      ],
      "source": [
        "df['day'].value_counts()"
      ]
    },
    {
      "cell_type": "code",
      "execution_count": 299,
      "metadata": {
        "colab": {
          "base_uri": "https://localhost:8080/"
        },
        "outputId": "4b9f74e1-d890-4bdf-c33f-485b6b6032cb",
        "id": "XWXX1hMnjIkQ"
      },
      "outputs": [
        {
          "output_type": "execute_result",
          "data": {
            "text/plain": [
              "may    13766\n",
              "jul     6895\n",
              "aug     6247\n",
              "jun     5341\n",
              "nov     3970\n",
              "apr     2932\n",
              "feb     2649\n",
              "jan     1403\n",
              "oct      738\n",
              "sep      579\n",
              "mar      477\n",
              "dec      214\n",
              "Name: mon, dtype: int64"
            ]
          },
          "metadata": {},
          "execution_count": 299
        }
      ],
      "source": [
        "df['mon'].value_counts()"
      ]
    },
    {
      "cell_type": "code",
      "execution_count": 300,
      "metadata": {
        "colab": {
          "base_uri": "https://localhost:8080/"
        },
        "outputId": "607353f1-b558-48c0-cc57-a473c549f034",
        "id": "m8L4isbrjIkR"
      },
      "outputs": [
        {
          "output_type": "execute_result",
          "data": {
            "text/plain": [
              "20    2752\n",
              "18    2308\n",
              "21    2026\n",
              "17    1939\n",
              "6     1932\n",
              "5     1910\n",
              "14    1848\n",
              "8     1842\n",
              "28    1830\n",
              "7     1817\n",
              "19    1757\n",
              "29    1745\n",
              "15    1703\n",
              "12    1603\n",
              "13    1585\n",
              "30    1566\n",
              "9     1561\n",
              "11    1479\n",
              "4     1445\n",
              "16    1415\n",
              "2     1293\n",
              "27    1121\n",
              "3     1079\n",
              "26    1035\n",
              "23     939\n",
              "22     905\n",
              "25     840\n",
              "31     643\n",
              "10     524\n",
              "24     447\n",
              "1      322\n",
              "Name: day, dtype: int64"
            ]
          },
          "metadata": {},
          "execution_count": 300
        }
      ],
      "source": [
        "df['day'].value_counts()"
      ]
    },
    {
      "cell_type": "code",
      "execution_count": 301,
      "metadata": {
        "colab": {
          "base_uri": "https://localhost:8080/"
        },
        "outputId": "30ee7b64-7153-4049-b49b-1e11809a9610",
        "id": "6nYsr-_vjIkR"
      },
      "outputs": [
        {
          "output_type": "execute_result",
          "data": {
            "text/plain": [
              "blue-collar      9732\n",
              "management       9458\n",
              "technician       7597\n",
              "admin.           5171\n",
              "services         4154\n",
              "retired          2264\n",
              "self-employed    1579\n",
              "entrepreneur     1487\n",
              "unemployed       1303\n",
              "housemaid        1240\n",
              "student           938\n",
              "unknown           288\n",
              "Name: job, dtype: int64"
            ]
          },
          "metadata": {},
          "execution_count": 301
        }
      ],
      "source": [
        "df['job'].value_counts()"
      ]
    },
    {
      "cell_type": "code",
      "execution_count": 302,
      "metadata": {
        "colab": {
          "base_uri": "https://localhost:8080/"
        },
        "outputId": "f3e70bb6-b3ec-419f-ef65-afa9237f6421",
        "id": "RHqxmKm-jIkR"
      },
      "outputs": [
        {
          "output_type": "execute_result",
          "data": {
            "text/plain": [
              "cellular     29285\n",
              "unknown      13020\n",
              "telephone     2906\n",
              "Name: call_type, dtype: int64"
            ]
          },
          "metadata": {},
          "execution_count": 302
        }
      ],
      "source": [
        "df[\"call_type\"].value_counts()"
      ]
    },
    {
      "cell_type": "code",
      "execution_count": 303,
      "metadata": {
        "colab": {
          "base_uri": "https://localhost:8080/"
        },
        "outputId": "95ac591e-ef7c-45f4-9b58-9ec6739d0e13",
        "id": "vMFx5dFfjIkR"
      },
      "outputs": [
        {
          "output_type": "execute_result",
          "data": {
            "text/plain": [
              "secondary    23202\n",
              "tertiary     13301\n",
              "primary       6851\n",
              "unknown       1857\n",
              "Name: education_qual, dtype: int64"
            ]
          },
          "metadata": {},
          "execution_count": 303
        }
      ],
      "source": [
        "df[\"education_qual\"].value_counts()"
      ]
    },
    {
      "cell_type": "code",
      "execution_count": 303,
      "metadata": {
        "id": "lunN4351jIkS"
      },
      "outputs": [],
      "source": []
    },
    {
      "cell_type": "code",
      "execution_count": 304,
      "metadata": {
        "colab": {
          "base_uri": "https://localhost:8080/"
        },
        "outputId": "0b298d30-188a-4641-f127-7280b90804bb",
        "id": "3RzVDYlsjIkS"
      },
      "outputs": [
        {
          "output_type": "execute_result",
          "data": {
            "text/plain": [
              "no     39922\n",
              "yes     5289\n",
              "Name: y, dtype: int64"
            ]
          },
          "metadata": {},
          "execution_count": 304
        }
      ],
      "source": [
        "df['y'].value_counts()"
      ]
    },
    {
      "cell_type": "code",
      "execution_count": 305,
      "metadata": {
        "id": "nd7ODPv1jIkS"
      },
      "outputs": [],
      "source": [
        "df['Target'] = df['y'].map({'yes':1, 'no':0})"
      ]
    },
    {
      "cell_type": "code",
      "execution_count": 306,
      "metadata": {
        "colab": {
          "base_uri": "https://localhost:8080/"
        },
        "outputId": "784700ab-36fc-4b0b-e852-82f3f48edd7e",
        "id": "s7noWgUajIkS"
      },
      "outputs": [
        {
          "output_type": "execute_result",
          "data": {
            "text/plain": [
              "prev_outcome\n",
              "failure    0.126097\n",
              "other      0.166848\n",
              "success    0.647253\n",
              "unknown    0.091615\n",
              "Name: Target, dtype: float64"
            ]
          },
          "metadata": {},
          "execution_count": 306
        }
      ],
      "source": [
        "df.groupby('prev_outcome')['Target'].mean()"
      ]
    },
    {
      "cell_type": "code",
      "execution_count": 307,
      "metadata": {
        "colab": {
          "base_uri": "https://localhost:8080/"
        },
        "outputId": "3b24317a-a825-4f7c-9993-c2e67aa72e27",
        "id": "u2aKsT0hjIkT"
      },
      "outputs": [
        {
          "output_type": "execute_result",
          "data": {
            "text/plain": [
              "(70.5, 55.5)"
            ]
          },
          "metadata": {},
          "execution_count": 307
        }
      ],
      "source": [
        "IQR = df['age'].quantile(0.75)-df['age'].quantile(0.25)\n",
        "upper = df.age.quantile(0.75) + (1.5*IQR)\n",
        "lower = df.age.quantile(0.25) + (1.5*IQR)\n",
        "upper,lower"
      ]
    },
    {
      "cell_type": "code",
      "execution_count": 308,
      "metadata": {
        "colab": {
          "base_uri": "https://localhost:8080/"
        },
        "outputId": "2041782d-f9d5-4b28-8e4a-e77599325e7d",
        "id": "rUnayBndjIkT"
      },
      "outputs": [
        {
          "output_type": "execute_result",
          "data": {
            "text/plain": [
              "(643.0, 427.0)"
            ]
          },
          "metadata": {},
          "execution_count": 308
        }
      ],
      "source": [
        "IQR = df['dur'].quantile(0.75)-df['dur'].quantile(0.25)\n",
        "upper = df.dur.quantile(0.75) + (1.5*IQR)\n",
        "lower = df.dur.quantile(0.25) + (1.5*IQR)\n",
        "upper,lower"
      ]
    },
    {
      "cell_type": "code",
      "execution_count": 309,
      "metadata": {
        "colab": {
          "base_uri": "https://localhost:8080/"
        },
        "outputId": "aec7fe84-ba7a-4033-fd4d-246a829313a0",
        "id": "uBbb1J6ijIkT"
      },
      "outputs": [
        {
          "output_type": "execute_result",
          "data": {
            "text/plain": [
              "(6.0, 4.0)"
            ]
          },
          "metadata": {},
          "execution_count": 309
        }
      ],
      "source": [
        "IQR = df['num_calls'].quantile(0.75)-df['num_calls'].quantile(0.25)\n",
        "upper = df.num_calls.quantile(0.75) + (1.5*IQR)\n",
        "lower = df.num_calls.quantile(0.25) + (1.5*IQR)\n",
        "upper,lower"
      ]
    },
    {
      "cell_type": "code",
      "execution_count": 310,
      "metadata": {
        "colab": {
          "base_uri": "https://localhost:8080/"
        },
        "outputId": "597ece58-0860-4895-aa62-2807d0159790",
        "id": "k70Bd63ejIkU"
      },
      "outputs": [
        {
          "output_type": "execute_result",
          "data": {
            "text/plain": [
              "(643.0, 427.0)"
            ]
          },
          "metadata": {},
          "execution_count": 310
        }
      ],
      "source": [
        "IQR = df['dur'].quantile(0.75)-df['dur'].quantile(0.25)\n",
        "upper = df.dur.quantile(0.75) + (1.5*IQR)\n",
        "lower = df.dur.quantile(0.25) + (1.5*IQR)\n",
        "upper,lower"
      ]
    },
    {
      "cell_type": "code",
      "execution_count": 311,
      "metadata": {
        "colab": {
          "base_uri": "https://localhost:8080/",
          "height": 300
        },
        "outputId": "38085af1-9048-44b5-bac4-898e858fcda5",
        "id": "dI05jZyjjIkU"
      },
      "outputs": [
        {
          "output_type": "execute_result",
          "data": {
            "text/plain": [
              "                age           day           dur     num_calls        Target\n",
              "count  45211.000000  45211.000000  45211.000000  45211.000000  45211.000000\n",
              "mean      40.936210     15.806419    258.163080      2.763841      0.116985\n",
              "std       10.618762      8.322476    257.527812      3.098021      0.321406\n",
              "min       18.000000      1.000000      0.000000      1.000000      0.000000\n",
              "25%       33.000000      8.000000    103.000000      1.000000      0.000000\n",
              "50%       39.000000     16.000000    180.000000      2.000000      0.000000\n",
              "75%       48.000000     21.000000    319.000000      3.000000      0.000000\n",
              "max       95.000000     31.000000   4918.000000     63.000000      1.000000"
            ],
            "text/html": [
              "\n",
              "  <div id=\"df-dc18ed20-accb-483e-a5a4-f6a8be3ad653\">\n",
              "    <div class=\"colab-df-container\">\n",
              "      <div>\n",
              "<style scoped>\n",
              "    .dataframe tbody tr th:only-of-type {\n",
              "        vertical-align: middle;\n",
              "    }\n",
              "\n",
              "    .dataframe tbody tr th {\n",
              "        vertical-align: top;\n",
              "    }\n",
              "\n",
              "    .dataframe thead th {\n",
              "        text-align: right;\n",
              "    }\n",
              "</style>\n",
              "<table border=\"1\" class=\"dataframe\">\n",
              "  <thead>\n",
              "    <tr style=\"text-align: right;\">\n",
              "      <th></th>\n",
              "      <th>age</th>\n",
              "      <th>day</th>\n",
              "      <th>dur</th>\n",
              "      <th>num_calls</th>\n",
              "      <th>Target</th>\n",
              "    </tr>\n",
              "  </thead>\n",
              "  <tbody>\n",
              "    <tr>\n",
              "      <th>count</th>\n",
              "      <td>45211.000000</td>\n",
              "      <td>45211.000000</td>\n",
              "      <td>45211.000000</td>\n",
              "      <td>45211.000000</td>\n",
              "      <td>45211.000000</td>\n",
              "    </tr>\n",
              "    <tr>\n",
              "      <th>mean</th>\n",
              "      <td>40.936210</td>\n",
              "      <td>15.806419</td>\n",
              "      <td>258.163080</td>\n",
              "      <td>2.763841</td>\n",
              "      <td>0.116985</td>\n",
              "    </tr>\n",
              "    <tr>\n",
              "      <th>std</th>\n",
              "      <td>10.618762</td>\n",
              "      <td>8.322476</td>\n",
              "      <td>257.527812</td>\n",
              "      <td>3.098021</td>\n",
              "      <td>0.321406</td>\n",
              "    </tr>\n",
              "    <tr>\n",
              "      <th>min</th>\n",
              "      <td>18.000000</td>\n",
              "      <td>1.000000</td>\n",
              "      <td>0.000000</td>\n",
              "      <td>1.000000</td>\n",
              "      <td>0.000000</td>\n",
              "    </tr>\n",
              "    <tr>\n",
              "      <th>25%</th>\n",
              "      <td>33.000000</td>\n",
              "      <td>8.000000</td>\n",
              "      <td>103.000000</td>\n",
              "      <td>1.000000</td>\n",
              "      <td>0.000000</td>\n",
              "    </tr>\n",
              "    <tr>\n",
              "      <th>50%</th>\n",
              "      <td>39.000000</td>\n",
              "      <td>16.000000</td>\n",
              "      <td>180.000000</td>\n",
              "      <td>2.000000</td>\n",
              "      <td>0.000000</td>\n",
              "    </tr>\n",
              "    <tr>\n",
              "      <th>75%</th>\n",
              "      <td>48.000000</td>\n",
              "      <td>21.000000</td>\n",
              "      <td>319.000000</td>\n",
              "      <td>3.000000</td>\n",
              "      <td>0.000000</td>\n",
              "    </tr>\n",
              "    <tr>\n",
              "      <th>max</th>\n",
              "      <td>95.000000</td>\n",
              "      <td>31.000000</td>\n",
              "      <td>4918.000000</td>\n",
              "      <td>63.000000</td>\n",
              "      <td>1.000000</td>\n",
              "    </tr>\n",
              "  </tbody>\n",
              "</table>\n",
              "</div>\n",
              "      <button class=\"colab-df-convert\" onclick=\"convertToInteractive('df-dc18ed20-accb-483e-a5a4-f6a8be3ad653')\"\n",
              "              title=\"Convert this dataframe to an interactive table.\"\n",
              "              style=\"display:none;\">\n",
              "        \n",
              "  <svg xmlns=\"http://www.w3.org/2000/svg\" height=\"24px\"viewBox=\"0 0 24 24\"\n",
              "       width=\"24px\">\n",
              "    <path d=\"M0 0h24v24H0V0z\" fill=\"none\"/>\n",
              "    <path d=\"M18.56 5.44l.94 2.06.94-2.06 2.06-.94-2.06-.94-.94-2.06-.94 2.06-2.06.94zm-11 1L8.5 8.5l.94-2.06 2.06-.94-2.06-.94L8.5 2.5l-.94 2.06-2.06.94zm10 10l.94 2.06.94-2.06 2.06-.94-2.06-.94-.94-2.06-.94 2.06-2.06.94z\"/><path d=\"M17.41 7.96l-1.37-1.37c-.4-.4-.92-.59-1.43-.59-.52 0-1.04.2-1.43.59L10.3 9.45l-7.72 7.72c-.78.78-.78 2.05 0 2.83L4 21.41c.39.39.9.59 1.41.59.51 0 1.02-.2 1.41-.59l7.78-7.78 2.81-2.81c.8-.78.8-2.07 0-2.86zM5.41 20L4 18.59l7.72-7.72 1.47 1.35L5.41 20z\"/>\n",
              "  </svg>\n",
              "      </button>\n",
              "      \n",
              "  <style>\n",
              "    .colab-df-container {\n",
              "      display:flex;\n",
              "      flex-wrap:wrap;\n",
              "      gap: 12px;\n",
              "    }\n",
              "\n",
              "    .colab-df-convert {\n",
              "      background-color: #E8F0FE;\n",
              "      border: none;\n",
              "      border-radius: 50%;\n",
              "      cursor: pointer;\n",
              "      display: none;\n",
              "      fill: #1967D2;\n",
              "      height: 32px;\n",
              "      padding: 0 0 0 0;\n",
              "      width: 32px;\n",
              "    }\n",
              "\n",
              "    .colab-df-convert:hover {\n",
              "      background-color: #E2EBFA;\n",
              "      box-shadow: 0px 1px 2px rgba(60, 64, 67, 0.3), 0px 1px 3px 1px rgba(60, 64, 67, 0.15);\n",
              "      fill: #174EA6;\n",
              "    }\n",
              "\n",
              "    [theme=dark] .colab-df-convert {\n",
              "      background-color: #3B4455;\n",
              "      fill: #D2E3FC;\n",
              "    }\n",
              "\n",
              "    [theme=dark] .colab-df-convert:hover {\n",
              "      background-color: #434B5C;\n",
              "      box-shadow: 0px 1px 3px 1px rgba(0, 0, 0, 0.15);\n",
              "      filter: drop-shadow(0px 1px 2px rgba(0, 0, 0, 0.3));\n",
              "      fill: #FFFFFF;\n",
              "    }\n",
              "  </style>\n",
              "\n",
              "      <script>\n",
              "        const buttonEl =\n",
              "          document.querySelector('#df-dc18ed20-accb-483e-a5a4-f6a8be3ad653 button.colab-df-convert');\n",
              "        buttonEl.style.display =\n",
              "          google.colab.kernel.accessAllowed ? 'block' : 'none';\n",
              "\n",
              "        async function convertToInteractive(key) {\n",
              "          const element = document.querySelector('#df-dc18ed20-accb-483e-a5a4-f6a8be3ad653');\n",
              "          const dataTable =\n",
              "            await google.colab.kernel.invokeFunction('convertToInteractive',\n",
              "                                                     [key], {});\n",
              "          if (!dataTable) return;\n",
              "\n",
              "          const docLinkHtml = 'Like what you see? Visit the ' +\n",
              "            '<a target=\"_blank\" href=https://colab.research.google.com/notebooks/data_table.ipynb>data table notebook</a>'\n",
              "            + ' to learn more about interactive tables.';\n",
              "          element.innerHTML = '';\n",
              "          dataTable['output_type'] = 'display_data';\n",
              "          await google.colab.output.renderOutput(dataTable, element);\n",
              "          const docLink = document.createElement('div');\n",
              "          docLink.innerHTML = docLinkHtml;\n",
              "          element.appendChild(docLink);\n",
              "        }\n",
              "      </script>\n",
              "    </div>\n",
              "  </div>\n",
              "  "
            ]
          },
          "metadata": {},
          "execution_count": 311
        }
      ],
      "source": [
        "df.describe()"
      ]
    },
    {
      "cell_type": "code",
      "execution_count": 312,
      "metadata": {
        "colab": {
          "base_uri": "https://localhost:8080/",
          "height": 206
        },
        "outputId": "b49eae1e-54d7-4b19-bd00-6ccf74889e3c",
        "id": "6NjaQiQCjIkU"
      },
      "outputs": [
        {
          "output_type": "execute_result",
          "data": {
            "text/plain": [
              "   age           job  marital education_qual call_type  day  mon  dur  \\\n",
              "0   58    management  married       tertiary   unknown    5  may  261   \n",
              "1   44    technician   single      secondary   unknown    5  may  151   \n",
              "2   33  entrepreneur  married      secondary   unknown    5  may   76   \n",
              "3   47   blue-collar  married        unknown   unknown    5  may   92   \n",
              "4   33       unknown   single        unknown   unknown    5  may  198   \n",
              "\n",
              "   num_calls prev_outcome   y  Target  \n",
              "0          1      unknown  no       0  \n",
              "1          1      unknown  no       0  \n",
              "2          1      unknown  no       0  \n",
              "3          1      unknown  no       0  \n",
              "4          1      unknown  no       0  "
            ],
            "text/html": [
              "\n",
              "  <div id=\"df-52f69974-0cc5-4a5b-81fb-57068f0b22b5\">\n",
              "    <div class=\"colab-df-container\">\n",
              "      <div>\n",
              "<style scoped>\n",
              "    .dataframe tbody tr th:only-of-type {\n",
              "        vertical-align: middle;\n",
              "    }\n",
              "\n",
              "    .dataframe tbody tr th {\n",
              "        vertical-align: top;\n",
              "    }\n",
              "\n",
              "    .dataframe thead th {\n",
              "        text-align: right;\n",
              "    }\n",
              "</style>\n",
              "<table border=\"1\" class=\"dataframe\">\n",
              "  <thead>\n",
              "    <tr style=\"text-align: right;\">\n",
              "      <th></th>\n",
              "      <th>age</th>\n",
              "      <th>job</th>\n",
              "      <th>marital</th>\n",
              "      <th>education_qual</th>\n",
              "      <th>call_type</th>\n",
              "      <th>day</th>\n",
              "      <th>mon</th>\n",
              "      <th>dur</th>\n",
              "      <th>num_calls</th>\n",
              "      <th>prev_outcome</th>\n",
              "      <th>y</th>\n",
              "      <th>Target</th>\n",
              "    </tr>\n",
              "  </thead>\n",
              "  <tbody>\n",
              "    <tr>\n",
              "      <th>0</th>\n",
              "      <td>58</td>\n",
              "      <td>management</td>\n",
              "      <td>married</td>\n",
              "      <td>tertiary</td>\n",
              "      <td>unknown</td>\n",
              "      <td>5</td>\n",
              "      <td>may</td>\n",
              "      <td>261</td>\n",
              "      <td>1</td>\n",
              "      <td>unknown</td>\n",
              "      <td>no</td>\n",
              "      <td>0</td>\n",
              "    </tr>\n",
              "    <tr>\n",
              "      <th>1</th>\n",
              "      <td>44</td>\n",
              "      <td>technician</td>\n",
              "      <td>single</td>\n",
              "      <td>secondary</td>\n",
              "      <td>unknown</td>\n",
              "      <td>5</td>\n",
              "      <td>may</td>\n",
              "      <td>151</td>\n",
              "      <td>1</td>\n",
              "      <td>unknown</td>\n",
              "      <td>no</td>\n",
              "      <td>0</td>\n",
              "    </tr>\n",
              "    <tr>\n",
              "      <th>2</th>\n",
              "      <td>33</td>\n",
              "      <td>entrepreneur</td>\n",
              "      <td>married</td>\n",
              "      <td>secondary</td>\n",
              "      <td>unknown</td>\n",
              "      <td>5</td>\n",
              "      <td>may</td>\n",
              "      <td>76</td>\n",
              "      <td>1</td>\n",
              "      <td>unknown</td>\n",
              "      <td>no</td>\n",
              "      <td>0</td>\n",
              "    </tr>\n",
              "    <tr>\n",
              "      <th>3</th>\n",
              "      <td>47</td>\n",
              "      <td>blue-collar</td>\n",
              "      <td>married</td>\n",
              "      <td>unknown</td>\n",
              "      <td>unknown</td>\n",
              "      <td>5</td>\n",
              "      <td>may</td>\n",
              "      <td>92</td>\n",
              "      <td>1</td>\n",
              "      <td>unknown</td>\n",
              "      <td>no</td>\n",
              "      <td>0</td>\n",
              "    </tr>\n",
              "    <tr>\n",
              "      <th>4</th>\n",
              "      <td>33</td>\n",
              "      <td>unknown</td>\n",
              "      <td>single</td>\n",
              "      <td>unknown</td>\n",
              "      <td>unknown</td>\n",
              "      <td>5</td>\n",
              "      <td>may</td>\n",
              "      <td>198</td>\n",
              "      <td>1</td>\n",
              "      <td>unknown</td>\n",
              "      <td>no</td>\n",
              "      <td>0</td>\n",
              "    </tr>\n",
              "  </tbody>\n",
              "</table>\n",
              "</div>\n",
              "      <button class=\"colab-df-convert\" onclick=\"convertToInteractive('df-52f69974-0cc5-4a5b-81fb-57068f0b22b5')\"\n",
              "              title=\"Convert this dataframe to an interactive table.\"\n",
              "              style=\"display:none;\">\n",
              "        \n",
              "  <svg xmlns=\"http://www.w3.org/2000/svg\" height=\"24px\"viewBox=\"0 0 24 24\"\n",
              "       width=\"24px\">\n",
              "    <path d=\"M0 0h24v24H0V0z\" fill=\"none\"/>\n",
              "    <path d=\"M18.56 5.44l.94 2.06.94-2.06 2.06-.94-2.06-.94-.94-2.06-.94 2.06-2.06.94zm-11 1L8.5 8.5l.94-2.06 2.06-.94-2.06-.94L8.5 2.5l-.94 2.06-2.06.94zm10 10l.94 2.06.94-2.06 2.06-.94-2.06-.94-.94-2.06-.94 2.06-2.06.94z\"/><path d=\"M17.41 7.96l-1.37-1.37c-.4-.4-.92-.59-1.43-.59-.52 0-1.04.2-1.43.59L10.3 9.45l-7.72 7.72c-.78.78-.78 2.05 0 2.83L4 21.41c.39.39.9.59 1.41.59.51 0 1.02-.2 1.41-.59l7.78-7.78 2.81-2.81c.8-.78.8-2.07 0-2.86zM5.41 20L4 18.59l7.72-7.72 1.47 1.35L5.41 20z\"/>\n",
              "  </svg>\n",
              "      </button>\n",
              "      \n",
              "  <style>\n",
              "    .colab-df-container {\n",
              "      display:flex;\n",
              "      flex-wrap:wrap;\n",
              "      gap: 12px;\n",
              "    }\n",
              "\n",
              "    .colab-df-convert {\n",
              "      background-color: #E8F0FE;\n",
              "      border: none;\n",
              "      border-radius: 50%;\n",
              "      cursor: pointer;\n",
              "      display: none;\n",
              "      fill: #1967D2;\n",
              "      height: 32px;\n",
              "      padding: 0 0 0 0;\n",
              "      width: 32px;\n",
              "    }\n",
              "\n",
              "    .colab-df-convert:hover {\n",
              "      background-color: #E2EBFA;\n",
              "      box-shadow: 0px 1px 2px rgba(60, 64, 67, 0.3), 0px 1px 3px 1px rgba(60, 64, 67, 0.15);\n",
              "      fill: #174EA6;\n",
              "    }\n",
              "\n",
              "    [theme=dark] .colab-df-convert {\n",
              "      background-color: #3B4455;\n",
              "      fill: #D2E3FC;\n",
              "    }\n",
              "\n",
              "    [theme=dark] .colab-df-convert:hover {\n",
              "      background-color: #434B5C;\n",
              "      box-shadow: 0px 1px 3px 1px rgba(0, 0, 0, 0.15);\n",
              "      filter: drop-shadow(0px 1px 2px rgba(0, 0, 0, 0.3));\n",
              "      fill: #FFFFFF;\n",
              "    }\n",
              "  </style>\n",
              "\n",
              "      <script>\n",
              "        const buttonEl =\n",
              "          document.querySelector('#df-52f69974-0cc5-4a5b-81fb-57068f0b22b5 button.colab-df-convert');\n",
              "        buttonEl.style.display =\n",
              "          google.colab.kernel.accessAllowed ? 'block' : 'none';\n",
              "\n",
              "        async function convertToInteractive(key) {\n",
              "          const element = document.querySelector('#df-52f69974-0cc5-4a5b-81fb-57068f0b22b5');\n",
              "          const dataTable =\n",
              "            await google.colab.kernel.invokeFunction('convertToInteractive',\n",
              "                                                     [key], {});\n",
              "          if (!dataTable) return;\n",
              "\n",
              "          const docLinkHtml = 'Like what you see? Visit the ' +\n",
              "            '<a target=\"_blank\" href=https://colab.research.google.com/notebooks/data_table.ipynb>data table notebook</a>'\n",
              "            + ' to learn more about interactive tables.';\n",
              "          element.innerHTML = '';\n",
              "          dataTable['output_type'] = 'display_data';\n",
              "          await google.colab.output.renderOutput(dataTable, element);\n",
              "          const docLink = document.createElement('div');\n",
              "          docLink.innerHTML = docLinkHtml;\n",
              "          element.appendChild(docLink);\n",
              "        }\n",
              "      </script>\n",
              "    </div>\n",
              "  </div>\n",
              "  "
            ]
          },
          "metadata": {},
          "execution_count": 312
        }
      ],
      "source": [
        "df.head()"
      ]
    },
    {
      "cell_type": "markdown",
      "metadata": {
        "id": "WYtNML43jIkU"
      },
      "source": [
        "EDA"
      ]
    },
    {
      "cell_type": "code",
      "execution_count": 313,
      "metadata": {
        "colab": {
          "base_uri": "https://localhost:8080/",
          "height": 335
        },
        "outputId": "1ab430ef-409e-4e07-b5fc-3efb4c47ec9a",
        "id": "oSIVh-fujIkV"
      },
      "outputs": [
        {
          "output_type": "display_data",
          "data": {
            "text/plain": [
              "<Figure size 432x288 with 1 Axes>"
            ],
            "image/png": "[encoded data removed]"
          },
          "metadata": {
            "needs_background": "light"
          }
        }
      ],
      "source": [
        "df_job = pd.DataFrame(df.job.value_counts()).sort_values('job', ascending = False).reset_index()\n",
        "df_job.rename(columns = {\"index\":\"jobs\",\"job\":\"counts\"},inplace = True)\n",
        "bar = sns.barplot(x =df_job[\"jobs\"],y=df_job[\"counts\"],data = df_job)\n",
        "bar.tick_params(axis='x',rotation = 60)"
      ]
    },
    {
      "cell_type": "code",
      "execution_count": 314,
      "metadata": {
        "colab": {
          "base_uri": "https://localhost:8080/",
          "height": 283
        },
        "outputId": "276e3a64-1937-4435-eccd-21c15ed4ba77",
        "id": "8eum2FO7jIkV"
      },
      "outputs": [
        {
          "output_type": "execute_result",
          "data": {
            "text/plain": [
              "<AxesSubplot:ylabel='job'>"
            ]
          },
          "metadata": {},
          "execution_count": 314
        },
        {
          "output_type": "display_data",
          "data": {
            "text/plain": [
              "<Figure size 432x288 with 1 Axes>"
            ],
            "image/png": "[encoded data removed]"
          },
          "metadata": {
            "needs_background": "light"
          }
        }
      ],
      "source": [
        "(df.groupby(\"job\")['Target'].mean()*100).sort_values().plot(kind = 'barh', color = 'blue')"
      ]
    },
    {
      "cell_type": "code",
      "execution_count": 315,
      "metadata": {
        "colab": {
          "base_uri": "https://localhost:8080/",
          "height": 283
        },
        "outputId": "35bb780f-7b82-4882-9e8e-b00bc013a948",
        "id": "9SfPX2lQjIkV"
      },
      "outputs": [
        {
          "output_type": "execute_result",
          "data": {
            "text/plain": [
              "<AxesSubplot:ylabel='education_qual'>"
            ]
          },
          "metadata": {},
          "execution_count": 315
        },
        {
          "output_type": "display_data",
          "data": {
            "text/plain": [
              "<Figure size 432x288 with 1 Axes>"
            ],
            "image/png": "[encoded data removed]"
          },
          "metadata": {
            "needs_background": "light"
          }
        }
      ],
      "source": [
        "(df.groupby(\"education_qual\")['Target'].mean()*100).sort_values().plot(kind = 'barh', color = 'blue')"
      ]
    },
    {
      "cell_type": "code",
      "execution_count": 316,
      "metadata": {
        "colab": {
          "base_uri": "https://localhost:8080/",
          "height": 283
        },
        "outputId": "412df67a-e2e3-4800-e140-f4b378406003",
        "id": "MSTjPxTmjIkW"
      },
      "outputs": [
        {
          "output_type": "execute_result",
          "data": {
            "text/plain": [
              "<AxesSubplot:ylabel='marital'>"
            ]
          },
          "metadata": {},
          "execution_count": 316
        },
        {
          "output_type": "display_data",
          "data": {
            "text/plain": [
              "<Figure size 432x288 with 1 Axes>"
            ],
            "image/png": "[encoded data removed]"
          },
          "metadata": {
            "needs_background": "light"
          }
        }
      ],
      "source": [
        "(df.groupby(\"marital\")['Target'].mean()*100).sort_values().plot(kind = 'barh', color = 'green')"
      ]
    },
    {
      "cell_type": "code",
      "execution_count": 317,
      "metadata": {
        "colab": {
          "base_uri": "https://localhost:8080/",
          "height": 283
        },
        "outputId": "54a2ba92-945e-4f8f-a7ca-87b0e404df9d",
        "id": "Hmc3X7A9jIkW"
      },
      "outputs": [
        {
          "output_type": "execute_result",
          "data": {
            "text/plain": [
              "<AxesSubplot:ylabel='call_type'>"
            ]
          },
          "metadata": {},
          "execution_count": 317
        },
        {
          "output_type": "display_data",
          "data": {
            "text/plain": [
              "<Figure size 432x288 with 1 Axes>"
            ],
            "image/png": "[encoded data removed]"
          },
          "metadata": {
            "needs_background": "light"
          }
        }
      ],
      "source": [
        "(df.groupby(\"call_type\")['Target'].mean()*100).sort_values().plot(kind = 'barh', color = 'violet')"
      ]
    },
    {
      "cell_type": "code",
      "execution_count": 318,
      "metadata": {
        "colab": {
          "base_uri": "https://localhost:8080/",
          "height": 283
        },
        "outputId": "2c1cb8b9-84ef-470a-9b91-c4ca27c5922e",
        "id": "yUXIXDH7jIkW"
      },
      "outputs": [
        {
          "output_type": "execute_result",
          "data": {
            "text/plain": [
              "<AxesSubplot:ylabel='mon'>"
            ]
          },
          "metadata": {},
          "execution_count": 318
        },
        {
          "output_type": "display_data",
          "data": {
            "text/plain": [
              "<Figure size 432x288 with 1 Axes>"
            ],
            "image/png": "[encoded data removed]"
          },
          "metadata": {
            "needs_background": "light"
          }
        }
      ],
      "source": [
        "(df.groupby(\"mon\")['Target'].mean()*100).sort_values().plot(kind = 'barh', color = 'red')"
      ]
    },
    {
      "cell_type": "code",
      "execution_count": 319,
      "metadata": {
        "colab": {
          "base_uri": "https://localhost:8080/",
          "height": 283
        },
        "outputId": "6ee44bfd-436c-4d5c-fd0a-3ff8d2df9292",
        "id": "ZjF_nKZWjIkX"
      },
      "outputs": [
        {
          "output_type": "execute_result",
          "data": {
            "text/plain": [
              "<AxesSubplot:ylabel='prev_outcome'>"
            ]
          },
          "metadata": {},
          "execution_count": 319
        },
        {
          "output_type": "display_data",
          "data": {
            "text/plain": [
              "<Figure size 432x288 with 1 Axes>"
            ],
            "image/png": "[encoded data removed]"
          },
          "metadata": {
            "needs_background": "light"
          }
        }
      ],
      "source": [
        "(df.groupby(\"prev_outcome\")['Target'].mean()*100).sort_values().plot(kind = 'barh', color = 'yellow')"
      ]
    },
    {
      "cell_type": "markdown",
      "metadata": {
        "id": "wrfKo_-UjIkX"
      },
      "source": [
        "Encoding"
      ]
    },
    {
      "cell_type": "code",
      "execution_count": 320,
      "metadata": {
        "id": "85rOJMj3IwjO",
        "colab": {
          "base_uri": "https://localhost:8080/",
          "height": 423
        },
        "outputId": "54a3b0e0-a7c1-4c23-b648-d5139990f275"
      },
      "outputs": [
        {
          "output_type": "execute_result",
          "data": {
            "text/plain": [
              "       age   job  marital  education_qual  call_type  day  mon   dur  \\\n",
              "0       58   8.0        1             3.0          1    5    1   261   \n",
              "1       44   5.0        3             2.0          1    5    1   151   \n",
              "2       33   2.0        1             2.0          1    5    1    76   \n",
              "3       47   1.0        1             0.0          1    5    1    92   \n",
              "4       33   0.0        3             0.0          1    5    1   198   \n",
              "...    ...   ...      ...             ...        ...  ...  ...   ...   \n",
              "45206   51   5.0        1             3.0          3   17    4   977   \n",
              "45207   71  10.0        2             1.0          3   17    4   456   \n",
              "45208   72  10.0        1             2.0          3   17    4  1127   \n",
              "45209   57   1.0        1             2.0          2   17    4   508   \n",
              "45210   37   2.0        1             2.0          3   17    4   361   \n",
              "\n",
              "       num_calls  prev_outcome  y  \n",
              "0              1             1  0  \n",
              "1              1             1  0  \n",
              "2              1             1  0  \n",
              "3              1             1  0  \n",
              "4              1             1  0  \n",
              "...          ...           ... ..  \n",
              "45206          3             1  1  \n",
              "45207          2             1  1  \n",
              "45208          5             4  1  \n",
              "45209          4             1  0  \n",
              "45210          2             3  0  \n",
              "\n",
              "[45211 rows x 11 columns]"
            ],
            "text/html": [
              "\n",
              "  <div id=\"df-4dfd23be-2a90-4224-bc62-99982d9bace5\">\n",
              "    <div class=\"colab-df-container\">\n",
              "      <div>\n",
              "<style scoped>\n",
              "    .dataframe tbody tr th:only-of-type {\n",
              "        vertical-align: middle;\n",
              "    }\n",
              "\n",
              "    .dataframe tbody tr th {\n",
              "        vertical-align: top;\n",
              "    }\n",
              "\n",
              "    .dataframe thead th {\n",
              "        text-align: right;\n",
              "    }\n",
              "</style>\n",
              "<table border=\"1\" class=\"dataframe\">\n",
              "  <thead>\n",
              "    <tr style=\"text-align: right;\">\n",
              "      <th></th>\n",
              "      <th>age</th>\n",
              "      <th>job</th>\n",
              "      <th>marital</th>\n",
              "      <th>education_qual</th>\n",
              "      <th>call_type</th>\n",
              "      <th>day</th>\n",
              "      <th>mon</th>\n",
              "      <th>dur</th>\n",
              "      <th>num_calls</th>\n",
              "      <th>prev_outcome</th>\n",
              "      <th>y</th>\n",
              "    </tr>\n",
              "  </thead>\n",
              "  <tbody>\n",
              "    <tr>\n",
              "      <th>0</th>\n",
              "      <td>58</td>\n",
              "      <td>8.0</td>\n",
              "      <td>1</td>\n",
              "      <td>3.0</td>\n",
              "      <td>1</td>\n",
              "      <td>5</td>\n",
              "      <td>1</td>\n",
              "      <td>261</td>\n",
              "      <td>1</td>\n",
              "      <td>1</td>\n",
              "      <td>0</td>\n",
              "    </tr>\n",
              "    <tr>\n",
              "      <th>1</th>\n",
              "      <td>44</td>\n",
              "      <td>5.0</td>\n",
              "      <td>3</td>\n",
              "      <td>2.0</td>\n",
              "      <td>1</td>\n",
              "      <td>5</td>\n",
              "      <td>1</td>\n",
              "      <td>151</td>\n",
              "      <td>1</td>\n",
              "      <td>1</td>\n",
              "      <td>0</td>\n",
              "    </tr>\n",
              "    <tr>\n",
              "      <th>2</th>\n",
              "      <td>33</td>\n",
              "      <td>2.0</td>\n",
              "      <td>1</td>\n",
              "      <td>2.0</td>\n",
              "      <td>1</td>\n",
              "      <td>5</td>\n",
              "      <td>1</td>\n",
              "      <td>76</td>\n",
              "      <td>1</td>\n",
              "      <td>1</td>\n",
              "      <td>0</td>\n",
              "    </tr>\n",
              "    <tr>\n",
              "      <th>3</th>\n",
              "      <td>47</td>\n",
              "      <td>1.0</td>\n",
              "      <td>1</td>\n",
              "      <td>0.0</td>\n",
              "      <td>1</td>\n",
              "      <td>5</td>\n",
              "      <td>1</td>\n",
              "      <td>92</td>\n",
              "      <td>1</td>\n",
              "      <td>1</td>\n",
              "      <td>0</td>\n",
              "    </tr>\n",
              "    <tr>\n",
              "      <th>4</th>\n",
              "      <td>33</td>\n",
              "      <td>0.0</td>\n",
              "      <td>3</td>\n",
              "      <td>0.0</td>\n",
              "      <td>1</td>\n",
              "      <td>5</td>\n",
              "      <td>1</td>\n",
              "      <td>198</td>\n",
              "      <td>1</td>\n",
              "      <td>1</td>\n",
              "      <td>0</td>\n",
              "    </tr>\n",
              "    <tr>\n",
              "      <th>...</th>\n",
              "      <td>...</td>\n",
              "      <td>...</td>\n",
              "      <td>...</td>\n",
              "      <td>...</td>\n",
              "      <td>...</td>\n",
              "      <td>...</td>\n",
              "      <td>...</td>\n",
              "      <td>...</td>\n",
              "      <td>...</td>\n",
              "      <td>...</td>\n",
              "      <td>...</td>\n",
              "    </tr>\n",
              "    <tr>\n",
              "      <th>45206</th>\n",
              "      <td>51</td>\n",
              "      <td>5.0</td>\n",
              "      <td>1</td>\n",
              "      <td>3.0</td>\n",
              "      <td>3</td>\n",
              "      <td>17</td>\n",
              "      <td>4</td>\n",
              "      <td>977</td>\n",
              "      <td>3</td>\n",
              "      <td>1</td>\n",
              "      <td>1</td>\n",
              "    </tr>\n",
              "    <tr>\n",
              "      <th>45207</th>\n",
              "      <td>71</td>\n",
              "      <td>10.0</td>\n",
              "      <td>2</td>\n",
              "      <td>1.0</td>\n",
              "      <td>3</td>\n",
              "      <td>17</td>\n",
              "      <td>4</td>\n",
              "      <td>456</td>\n",
              "      <td>2</td>\n",
              "      <td>1</td>\n",
              "      <td>1</td>\n",
              "    </tr>\n",
              "    <tr>\n",
              "      <th>45208</th>\n",
              "      <td>72</td>\n",
              "      <td>10.0</td>\n",
              "      <td>1</td>\n",
              "      <td>2.0</td>\n",
              "      <td>3</td>\n",
              "      <td>17</td>\n",
              "      <td>4</td>\n",
              "      <td>1127</td>\n",
              "      <td>5</td>\n",
              "      <td>4</td>\n",
              "      <td>1</td>\n",
              "    </tr>\n",
              "    <tr>\n",
              "      <th>45209</th>\n",
              "      <td>57</td>\n",
              "      <td>1.0</td>\n",
              "      <td>1</td>\n",
              "      <td>2.0</td>\n",
              "      <td>2</td>\n",
              "      <td>17</td>\n",
              "      <td>4</td>\n",
              "      <td>508</td>\n",
              "      <td>4</td>\n",
              "      <td>1</td>\n",
              "      <td>0</td>\n",
              "    </tr>\n",
              "    <tr>\n",
              "      <th>45210</th>\n",
              "      <td>37</td>\n",
              "      <td>2.0</td>\n",
              "      <td>1</td>\n",
              "      <td>2.0</td>\n",
              "      <td>3</td>\n",
              "      <td>17</td>\n",
              "      <td>4</td>\n",
              "      <td>361</td>\n",
              "      <td>2</td>\n",
              "      <td>3</td>\n",
              "      <td>0</td>\n",
              "    </tr>\n",
              "  </tbody>\n",
              "</table>\n",
              "<p>45211 rows × 11 columns</p>\n",
              "</div>\n",
              "      <button class=\"colab-df-convert\" onclick=\"convertToInteractive('df-4dfd23be-2a90-4224-bc62-99982d9bace5')\"\n",
              "              title=\"Convert this dataframe to an interactive table.\"\n",
              "              style=\"display:none;\">\n",
              "        \n",
              "  <svg xmlns=\"http://www.w3.org/2000/svg\" height=\"24px\"viewBox=\"0 0 24 24\"\n",
              "       width=\"24px\">\n",
              "    <path d=\"M0 0h24v24H0V0z\" fill=\"none\"/>\n",
              "    <path d=\"M18.56 5.44l.94 2.06.94-2.06 2.06-.94-2.06-.94-.94-2.06-.94 2.06-2.06.94zm-11 1L8.5 8.5l.94-2.06 2.06-.94-2.06-.94L8.5 2.5l-.94 2.06-2.06.94zm10 10l.94 2.06.94-2.06 2.06-.94-2.06-.94-.94-2.06-.94 2.06-2.06.94z\"/><path d=\"M17.41 7.96l-1.37-1.37c-.4-.4-.92-.59-1.43-.59-.52 0-1.04.2-1.43.59L10.3 9.45l-7.72 7.72c-.78.78-.78 2.05 0 2.83L4 21.41c.39.39.9.59 1.41.59.51 0 1.02-.2 1.41-.59l7.78-7.78 2.81-2.81c.8-.78.8-2.07 0-2.86zM5.41 20L4 18.59l7.72-7.72 1.47 1.35L5.41 20z\"/>\n",
              "  </svg>\n",
              "      </button>\n",
              "      \n",
              "  <style>\n",
              "    .colab-df-container {\n",
              "      display:flex;\n",
              "      flex-wrap:wrap;\n",
              "      gap: 12px;\n",
              "    }\n",
              "\n",
              "    .colab-df-convert {\n",
              "      background-color: #E8F0FE;\n",
              "      border: none;\n",
              "      border-radius: 50%;\n",
              "      cursor: pointer;\n",
              "      display: none;\n",
              "      fill: #1967D2;\n",
              "      height: 32px;\n",
              "      padding: 0 0 0 0;\n",
              "      width: 32px;\n",
              "    }\n",
              "\n",
              "    .colab-df-convert:hover {\n",
              "      background-color: #E2EBFA;\n",
              "      box-shadow: 0px 1px 2px rgba(60, 64, 67, 0.3), 0px 1px 3px 1px rgba(60, 64, 67, 0.15);\n",
              "      fill: #174EA6;\n",
              "    }\n",
              "\n",
              "    [theme=dark] .colab-df-convert {\n",
              "      background-color: #3B4455;\n",
              "      fill: #D2E3FC;\n",
              "    }\n",
              "\n",
              "    [theme=dark] .colab-df-convert:hover {\n",
              "      background-color: #434B5C;\n",
              "      box-shadow: 0px 1px 3px 1px rgba(0, 0, 0, 0.15);\n",
              "      filter: drop-shadow(0px 1px 2px rgba(0, 0, 0, 0.3));\n",
              "      fill: #FFFFFF;\n",
              "    }\n",
              "  </style>\n",
              "\n",
              "      <script>\n",
              "        const buttonEl =\n",
              "          document.querySelector('#df-4dfd23be-2a90-4224-bc62-99982d9bace5 button.colab-df-convert');\n",
              "        buttonEl.style.display =\n",
              "          google.colab.kernel.accessAllowed ? 'block' : 'none';\n",
              "\n",
              "        async function convertToInteractive(key) {\n",
              "          const element = document.querySelector('#df-4dfd23be-2a90-4224-bc62-99982d9bace5');\n",
              "          const dataTable =\n",
              "            await google.colab.kernel.invokeFunction('convertToInteractive',\n",
              "                                                     [key], {});\n",
              "          if (!dataTable) return;\n",
              "\n",
              "          const docLinkHtml = 'Like what you see? Visit the ' +\n",
              "            '<a target=\"_blank\" href=https://colab.research.google.com/notebooks/data_table.ipynb>data table notebook</a>'\n",
              "            + ' to learn more about interactive tables.';\n",
              "          element.innerHTML = '';\n",
              "          dataTable['output_type'] = 'display_data';\n",
              "          await google.colab.output.renderOutput(dataTable, element);\n",
              "          const docLink = document.createElement('div');\n",
              "          docLink.innerHTML = docLinkHtml;\n",
              "          element.appendChild(docLink);\n",
              "        }\n",
              "      </script>\n",
              "    </div>\n",
              "  </div>\n",
              "  "
            ]
          },
          "metadata": {},
          "execution_count": 320
        }
      ],
      "source": [
        "## Encode labels in column 'job'\n",
        "df['job'] = df['job'].map({'blue-collar':1, 'entrepreneur':2, 'housemaid':3, 'services':4, 'technician':5, 'self-employed':6, 'admin':7, 'management':8, 'unemployed':9, 'retired':10, 'student':11})\n",
        "## Encode labels in column 'marital'\n",
        "df['marital'] = df['marital'].map({'married':1,'divorced':2, 'single':3,})\n",
        "## Encode labels in column 'education_qual'\n",
        "df['education_qual'] = df['education_qual'].map({'primary': 1, 'secondary':2, 'tertiary':3})\n",
        "## Encode labels in column 'call_type'\n",
        "df['call_type'] =df['call_type'].map({'unknown':1, 'telephone':2, 'cellular':3})\n",
        "## Encode labels in column 'mon'\n",
        "df['mon'] = df['mon'].map({'may':1, 'jul':2, 'jan':3, 'nov':4, 'jun':5, 'aug':6, 'feb':7, 'apr':8, 'oct':9, 'sep':10, 'dec':11, 'mar':12})\n",
        "## Encode labels in column 'prev_outcome'\n",
        "df['prev_outcome'] = df['prev_outcome'].map({'unknown':1, 'failure':2, 'other':3, 'success':4})\n",
        "## Encode labels in column 'y'\n",
        "df['y'] = df['y'].map({'no':0, 'yes':1})\n",
        "## Delete the 'target' column\n",
        "del df['Target']\n",
        "## Fill the all missing value in the dataset with value '0'\n",
        "df.fillna(0, inplace=True)\n",
        "## To display the dataset\n",
        "df"
      ]
    },
    {
      "cell_type": "code",
      "execution_count": 321,
      "metadata": {
        "colab": {
          "base_uri": "https://localhost:8080/"
        },
        "outputId": "19b3482b-f375-462f-8942-4789419dc700",
        "id": "hroV9FVGjIkY"
      },
      "outputs": [
        {
          "output_type": "execute_result",
          "data": {
            "text/plain": [
              "(45211, 11)"
            ]
          },
          "metadata": {},
          "execution_count": 321
        }
      ],
      "source": [
        "df.shape"
      ]
    },
    {
      "cell_type": "code",
      "execution_count": 322,
      "metadata": {
        "colab": {
          "base_uri": "https://localhost:8080/"
        },
        "outputId": "2da805b2-120d-4308-cede-90f49997665f",
        "id": "0rSJwuFljIkY"
      },
      "outputs": [
        {
          "output_type": "execute_result",
          "data": {
            "text/plain": [
              "['age',\n",
              " 'job',\n",
              " 'marital',\n",
              " 'education_qual',\n",
              " 'call_type',\n",
              " 'day',\n",
              " 'mon',\n",
              " 'dur',\n",
              " 'num_calls']"
            ]
          },
          "metadata": {},
          "execution_count": 322
        }
      ],
      "source": [
        "col = [*df.columns]\n",
        "col[:-2]"
      ]
    },
    {
      "cell_type": "code",
      "execution_count": 323,
      "metadata": {
        "id": "KnG2oa7BjIkY"
      },
      "outputs": [],
      "source": [
        "x = df.iloc[:, :-1]    \n",
        "y = df.iloc[:, -1 ]"
      ]
    },
    {
      "cell_type": "code",
      "execution_count": 324,
      "metadata": {
        "id": "WedB4XqLjIkY"
      },
      "outputs": [],
      "source": [
        "x_train, x_test, y_train, y_test = train_test_split(x, y, test_size = 0.25) "
      ]
    },
    {
      "cell_type": "markdown",
      "metadata": {
        "id": "xZTko4IvjIkZ"
      },
      "source": [
        "Balancing the Data"
      ]
    },
    {
      "cell_type": "code",
      "execution_count": 325,
      "metadata": {
        "colab": {
          "base_uri": "https://localhost:8080/"
        },
        "outputId": "3889503e-e1b2-4bae-d0b5-ab0dd26934c0",
        "id": "x6jCg7bJjIkZ"
      },
      "outputs": [
        {
          "output_type": "execute_result",
          "data": {
            "text/plain": [
              "(45211, 11)"
            ]
          },
          "metadata": {},
          "execution_count": 325
        }
      ],
      "source": [
        "df.shape"
      ]
    },
    {
      "cell_type": "code",
      "execution_count": 326,
      "metadata": {
        "colab": {
          "base_uri": "https://localhost:8080/"
        },
        "outputId": "ef3c96d6-41e1-429d-f910-6b0b6c23816a",
        "id": "YWos-su6jIkZ"
      },
      "outputs": [
        {
          "output_type": "execute_result",
          "data": {
            "text/plain": [
              "(33908, 33908)"
            ]
          },
          "metadata": {},
          "execution_count": 326
        }
      ],
      "source": [
        "len(x_train),len(y_train)"
      ]
    },
    {
      "cell_type": "code",
      "execution_count": 327,
      "metadata": {
        "id": "5f8EMA9sjIkZ"
      },
      "outputs": [],
      "source": [
        "from imblearn.combine import SMOTEENN\n",
        "smt = SMOTEENN(sampling_strategy=\"all\")"
      ]
    },
    {
      "cell_type": "code",
      "execution_count": 328,
      "metadata": {
        "id": "zoK-VzonjIka"
      },
      "outputs": [],
      "source": [
        "x_train, y_train = smt.fit_resample(x_train, y_train)"
      ]
    },
    {
      "cell_type": "code",
      "execution_count": 329,
      "metadata": {
        "colab": {
          "base_uri": "https://localhost:8080/"
        },
        "outputId": "48ff91db-259c-4e4d-e120-59620cfb4120",
        "id": "OtokR7L2jIka"
      },
      "outputs": [
        {
          "output_type": "execute_result",
          "data": {
            "text/plain": [
              "(51491, 51491)"
            ]
          },
          "metadata": {},
          "execution_count": 329
        }
      ],
      "source": [
        "len(x_train),len(y_train)"
      ]
    },
    {
      "cell_type": "code",
      "execution_count": 330,
      "metadata": {
        "id": "-ES_YhMYK9bj",
        "colab": {
          "base_uri": "https://localhost:8080/",
          "height": 264
        },
        "outputId": "f06e16a4-4dea-4d8c-f235-818c5942da19"
      },
      "outputs": [
        {
          "output_type": "display_data",
          "data": {
            "text/plain": [
              "<Figure size 432x288 with 1 Axes>"
            ],
            "image/png": "[encoded data removed]"
          },
          "metadata": {}
        }
      ],
      "source": [
        "y_train.value_counts().plot.pie(autopct='%.2f',startangle = 90)  ## To plot the pieplot for the Target variable - 'y'\n",
        "plt.title(\"SMOTEENN\")     ## To set the name to Title of the Figure\n",
        "plt.legend(title = \"Target Variable\")  ## To show legend & name to the legend\n",
        "plt.show()    ## To show the Final plot "
      ]
    },
    {
      "cell_type": "markdown",
      "metadata": {
        "id": "V3J8SJYjjIka"
      },
      "source": [
        "Scaling"
      ]
    },
    {
      "cell_type": "code",
      "execution_count": 331,
      "metadata": {
        "id": "3DnhtRaVjIkb"
      },
      "outputs": [],
      "source": [
        "from sklearn.preprocessing import StandardScaler    \n",
        "st_x= StandardScaler()    \n",
        "x_train= st_x.fit_transform(x_train)    \n",
        "x_test= st_x.transform(x_test)  "
      ]
    },
    {
      "cell_type": "code",
      "execution_count": 332,
      "metadata": {
        "colab": {
          "base_uri": "https://localhost:8080/"
        },
        "outputId": "9f6177bf-2e13-4c25-886d-107a72249a3a",
        "id": "OYkTuNNSjIkb"
      },
      "outputs": [
        {
          "output_type": "execute_result",
          "data": {
            "text/plain": [
              "array([[-0.44010199,  0.97018518, -0.75785123, ..., -0.77669092,\n",
              "        -0.12612604, -0.5074375 ],\n",
              "       [ 1.43923416, -0.55835358, -0.75785123, ..., -0.35634611,\n",
              "         0.63967268, -0.5074375 ],\n",
              "       [-0.78179947,  0.97018518,  1.60786672, ..., -0.91492512,\n",
              "         1.02257204, -0.5074375 ],\n",
              "       ...,\n",
              "       [-0.61095073, -0.09306192,  0.42500775, ..., -0.06012998,\n",
              "        -0.12612604,  3.18702417],\n",
              "       [ 1.52465853,  1.51096413, -0.75785123, ...,  0.2530128 ,\n",
              "        -0.50902541,  1.95553695],\n",
              "       [-0.44010199,  1.16415652,  1.60786672, ..., -0.19272196,\n",
              "        -0.50902541,  3.18702417]])"
            ]
          },
          "metadata": {},
          "execution_count": 332
        }
      ],
      "source": [
        "x_train"
      ]
    },
    {
      "cell_type": "code",
      "execution_count": 333,
      "metadata": {
        "colab": {
          "base_uri": "https://localhost:8080/"
        },
        "outputId": "8defeae8-c780-4a69-8e0c-37f2e0f48a82",
        "id": "koEa0Q0sjIkb"
      },
      "outputs": [
        {
          "output_type": "execute_result",
          "data": {
            "text/plain": [
              "array([[ 0.92668794,  0.35876968,  1.60786672, ..., -0.55946575,\n",
              "        -0.50902541, -0.5074375 ],\n",
              "       [ 0.58499046, -0.25264582, -0.75785123, ...,  0.08938865,\n",
              "         1.78837077, -0.5074375 ],\n",
              "       [ 0.1578686 , -1.47547683, -0.75785123, ..., -0.50022252,\n",
              "        -0.12612604, -0.5074375 ],\n",
              "       ...,\n",
              "       [-1.03807258, -0.25264582, -0.75785123, ..., -0.39302049,\n",
              "         0.25677332, -0.5074375 ],\n",
              "       [ 1.35380979, -1.47547683,  0.42500775, ...,  0.97803706,\n",
              "        -0.50902541, -0.5074375 ],\n",
              "       [-0.01298014,  0.05306193, -0.75785123, ...,  0.0668198 ,\n",
              "        -0.12612604, -0.5074375 ]])"
            ]
          },
          "metadata": {},
          "execution_count": 333
        }
      ],
      "source": [
        "x_test"
      ]
    },
    {
      "cell_type": "markdown",
      "metadata": {
        "id": "Etqbp-UvjIkc"
      },
      "source": [
        "Model Selection"
      ]
    },
    {
      "cell_type": "code",
      "execution_count": 334,
      "metadata": {
        "id": "kNFrwDfBjIkc"
      },
      "outputs": [],
      "source": [
        "from sklearn.linear_model import LogisticRegression\n",
        "from sklearn.svm import SVC\n",
        "from sklearn.neighbors import KNeighborsClassifier\n",
        "from sklearn.tree import DecisionTreeClassifier\n",
        "from sklearn.ensemble import RandomForestClassifier\n",
        "from sklearn.model_selection import StratifiedKFold\n",
        "from sklearn import metrics\n",
        "from sklearn.metrics import classification_report\n",
        "from sklearn.metrics import confusion_matrix\n",
        "import xgboost as xgp\n",
        "from xgboost import XGBClassifier\n",
        "from sklearn.metrics import roc_auc_score, accuracy_score\n",
        "from sklearn.model_selection import cross_val_score"
      ]
    },
    {
      "cell_type": "code",
      "execution_count": 335,
      "metadata": {
        "colab": {
          "base_uri": "https://localhost:8080/"
        },
        "outputId": "724f784a-ddbc-4fb3-ded4-9e37624799e3",
        "id": "DekcbJ87jIkc"
      },
      "outputs": [
        {
          "output_type": "execute_result",
          "data": {
            "text/plain": [
              "0.8850250663154314"
            ]
          },
          "metadata": {},
          "execution_count": 335
        }
      ],
      "source": [
        "LR = LogisticRegression()\n",
        "LR.fit(x_train, y_train)\n",
        "LR.score(x_test, y_test)\n",
        "lr = roc_auc_score(y_test, LR.predict_proba(x_test)[:, 1])\n",
        "lr"
      ]
    },
    {
      "cell_type": "code",
      "execution_count": 336,
      "metadata": {
        "colab": {
          "base_uri": "https://localhost:8080/"
        },
        "outputId": "6824a22d-60c9-4bc9-c0f1-eb05444ebd45",
        "id": "IV1EYI8CjIkc"
      },
      "outputs": [
        {
          "output_type": "stream",
          "name": "stdout",
          "text": [
            "k-value: 1 Train-Score: 1.0\n",
            "k-value: 3 Train-Score: 0.9691790798391952\n",
            "k-value: 5 Train-Score: 0.9563224641199433\n",
            "k-value: 7 Train-Score: 0.9492921093006544\n",
            "k-value: 9 Train-Score: 0.9433493231826922\n",
            "k-value: 11 Train-Score: 0.9387659979413878\n",
            "k-value: 13 Train-Score: 0.9350177700957449\n",
            "k-value: 15 Train-Score: 0.9314054883377678\n",
            "k-value: 17 Train-Score: 0.9277543648404576\n",
            "k-value: 19 Train-Score: 0.925695752655804\n"
          ]
        }
      ],
      "source": [
        "for i in range(1,20,2):\n",
        "  knn = KNeighborsClassifier(i)\n",
        "  knn.fit(x_train, y_train)\n",
        "  print('k-value:', i, 'Train-Score:', knn.score(x_train,y_train) )"
      ]
    },
    {
      "cell_type": "code",
      "execution_count": 337,
      "metadata": {
        "colab": {
          "base_uri": "https://localhost:8080/",
          "height": 54
        },
        "outputId": "172df790-6a2e-4903-c377-5805124d422a",
        "id": "zFgk-A2EjIkd"
      },
      "outputs": [
        {
          "output_type": "execute_result",
          "data": {
            "text/plain": [
              "'for i in [1,2,3,4,5,6,7,8,9,10,20,30,40,50,60]\\nKNN = KNeighborsClassifier()\\nKNN.fit(x_train,y_test)\\nprint(\\'K-value:\\' i, \"Accurancy Score:\", KNN>score(x_train,y_smt), \\'Cross-Val Score:\\', np.mean(cross_val_score(KNN,x_train, y_)smt, cv =10)))'"
            ],
            "application/vnd.google.colaboratory.intrinsic+json": {
              "type": "string"
            }
          },
          "metadata": {},
          "execution_count": 337
        }
      ],
      "source": [
        "'''for i in [1,2,3,4,5,6,7,8,9,10,20,30,40,50,60]\n",
        "KNN = KNeighborsClassifier()\n",
        "KNN.fit(x_train,y_test)\n",
        "print('K-value:' i, \"Accurancy Score:\", KNN>score(x_train,y_smt), 'Cross-Val Score:', np.mean(cross_val_score(KNN,x_train, y_)smt, cv =10)))'''"
      ]
    },
    {
      "cell_type": "code",
      "execution_count": 338,
      "metadata": {
        "colab": {
          "base_uri": "https://localhost:8080/"
        },
        "outputId": "60eb7341-be90-489b-fab3-09cabf747cb8",
        "id": "WEHr_fTOjIkd"
      },
      "outputs": [
        {
          "output_type": "stream",
          "name": "stdout",
          "text": [
            "Train-Score: 0.8154472264000707\n",
            "Train-Score: 0.8154472264000707\n",
            "AUROC Score: 0.8242467402717776\n"
          ]
        }
      ],
      "source": [
        "kn = KNeighborsClassifier(9)\n",
        "kn.fit(x_train, y_train)\n",
        "y_predict_knn = kn.predict(x_test)\n",
        "\n",
        "print('Train-Score:', kn.score(x_test, y_test))\n",
        "print('Train-Score:', kn.score(x_test, y_test))\n",
        "print('AUROC Score:', roc_auc_score(y_test, y_predict_knn))"
      ]
    },
    {
      "cell_type": "code",
      "execution_count": 339,
      "metadata": {
        "colab": {
          "base_uri": "https://localhost:8080/"
        },
        "outputId": "bfdb6e84-1e7c-4e22-ac4b-1a3e10f8c979",
        "id": "7v_SrwAFjIkd"
      },
      "outputs": [
        {
          "output_type": "stream",
          "name": "stdout",
          "text": [
            "Depth: 1 Training Accuracy: 0.7758637431784196 CV_Score: 0.7757278536505344\n",
            "Depth: 2 Training Accuracy: 0.8086850129148784 CV_Score: 0.8047230398210982\n",
            "Depth: 3 Training Accuracy: 0.8587520149152279 CV_Score: 0.8558582211269226\n",
            "Depth: 4 Training Accuracy: 0.8648501679905226 CV_Score: 0.8621700886400789\n",
            "Depth: 5 Training Accuracy: 0.8784253558874366 CV_Score: 0.8783477609942171\n",
            "Depth: 6 Training Accuracy: 0.896583869025655 CV_Score: 0.8932048979253207\n",
            "Depth: 7 Training Accuracy: 0.9112854673632286 CV_Score: 0.9071880900617899\n",
            "Depth: 8 Training Accuracy: 0.9214620030684975 CV_Score: 0.9146652512411686\n",
            "Depth: 9 Training Accuracy: 0.9354256083587423 CV_Score: 0.9249389098081068\n",
            "Depth: 10 Training Accuracy: 0.9436017944883572 CV_Score: 0.9310954262020903\n",
            "Depth: 11 Training Accuracy: 0.953739488454293 CV_Score: 0.9369024355751989\n",
            "Depth: 12 Training Accuracy: 0.9628284554582354 CV_Score: 0.9395631916462239\n",
            "Depth: 13 Training Accuracy: 0.9721698937678429 CV_Score: 0.9420296937665341\n",
            "Depth: 14 Training Accuracy: 0.9798605581557942 CV_Score: 0.9444962373691187\n",
            "Depth: 15 Training Accuracy: 0.9862500242760871 CV_Score: 0.9469044040976946\n",
            "Depth: 16 Training Accuracy: 0.9907945077780583 CV_Score: 0.948069727932844\n",
            "Depth: 17 Training Accuracy: 0.9938435843157056 CV_Score: 0.9476813444782378\n",
            "Depth: 18 Training Accuracy: 0.9963100347633567 CV_Score: 0.9477202133697371\n",
            "Depth: 19 Training Accuracy: 0.9978831252063467 CV_Score: 0.9478367521641491\n",
            "Depth: 20 Training Accuracy: 0.9992037443436718 CV_Score: 0.9489243457585317\n",
            "Depth: 21 Training Accuracy: 0.9996504243460023 CV_Score: 0.9484388145874305\n",
            "Depth: 22 Training Accuracy: 0.9998640539123342 CV_Score: 0.9488271527886459\n",
            "Depth: 23 Training Accuracy: 0.9999223165213338 CV_Score: 0.9491573479250379\n",
            "Depth: 24 Training Accuracy: 0.9999611582606669 CV_Score: 0.9491767804852296\n",
            "Depth: 25 Training Accuracy: 0.9999805791303334 CV_Score: 0.9482445644078312\n",
            "Depth: 26 Training Accuracy: 1.0 CV_Score: 0.9484581792675362\n",
            "Depth: 27 Training Accuracy: 1.0 CV_Score: 0.9493321617733294\n",
            "Depth: 28 Training Accuracy: 1.0 CV_Score: 0.9489242703362137\n",
            "Depth: 29 Training Accuracy: 1.0 CV_Score: 0.9487688965903456\n",
            "Depth: 30 Training Accuracy: 1.0 CV_Score: 0.9482446322879172\n"
          ]
        }
      ],
      "source": [
        "for depth in range(1,31):\n",
        "  dt = DecisionTreeClassifier(max_depth=depth)\n",
        "  dt.fit(x_train, y_train)\n",
        "  trainaccuracy = accuracy_score(y_train, dt.predict(x_train)) \n",
        "  dt = DecisionTreeClassifier(max_depth=depth)\n",
        "  valaccuracy = cross_val_score(dt, x_train, y_train, cv=10)\n",
        "  print('Depth:',depth, 'Training Accuracy:',trainaccuracy, 'CV_Score:', np.mean(valaccuracy))"
      ]
    },
    {
      "cell_type": "code",
      "execution_count": 340,
      "metadata": {
        "id": "HemruI63M5VD",
        "colab": {
          "base_uri": "https://localhost:8080/"
        },
        "outputId": "102cb69e-e50b-44e3-b002-bbb93a342811"
      },
      "outputs": [
        {
          "output_type": "stream",
          "name": "stdout",
          "text": [
            "Training Accuracy: 0.9861723407974209\n",
            "Test Accuracy    : 0.8307528974608511\n",
            "AUROC Score      : 0.7912041447504827\n"
          ]
        }
      ],
      "source": [
        "tr = DecisionTreeClassifier(max_depth=15)\n",
        "tr.fit(x_train, y_train)\n",
        "y_predict_dt = tr.predict(x_test)\n",
        "\n",
        "print('Training Accuracy:', tr.score(x_train, y_train))\n",
        "print('Test Accuracy    :', tr.score(x_test, y_test))\n",
        "print('AUROC Score      :',roc_auc_score(y_test, y_predict_dt))"
      ]
    },
    {
      "cell_type": "code",
      "execution_count": 341,
      "metadata": {
        "id": "adeq8HcBM_3D",
        "colab": {
          "base_uri": "https://localhost:8080/"
        },
        "outputId": "2ced647e-f73b-4664-8cf2-a035c0dec1bb"
      },
      "outputs": [
        {
          "output_type": "stream",
          "name": "stdout",
          "text": [
            "Training Accuracy : 0.9210541648055\n",
            "Testing Accuracy  : 0.7679377156507122\n",
            "AUROC Score       : 0.8200086802724843\n"
          ]
        }
      ],
      "source": [
        "tree = RandomForestClassifier(n_estimators=100,max_depth=6, max_features='sqrt')\n",
        "tree.fit(x_train,y_train)\n",
        "y_pred_rf = tree.predict(x_test)\n",
        "\n",
        "print(\"Training Accuracy :\",tree.score(x_train,y_train))\n",
        "print(\"Testing Accuracy  :\",tree.score(x_test,y_test))\n",
        "print(\"AUROC Score       :\", roc_auc_score(y_test,y_pred_rf))"
      ]
    },
    {
      "cell_type": "code",
      "execution_count": 342,
      "metadata": {
        "colab": {
          "base_uri": "https://localhost:8080/"
        },
        "id": "QtBY2ms9rBe7",
        "outputId": "9675b3b2-e596-4590-a16f-749daec1b539"
      },
      "outputs": [
        {
          "output_type": "stream",
          "name": "stdout",
          "text": [
            "Learning rate : 0.01 Train score : 0.9223359422034919 CV_Score : 0.919054211676506\n",
            "Learning rate : 0.02 Train score : 0.9308228622477714 CV_Score : 0.927580033449798\n",
            "Learning rate : 0.03 Train score : 0.9414460779553708 CV_Score : 0.936979909380085\n",
            "Learning rate : 0.04 Train score : 0.9488454292983239 CV_Score : 0.9434084325922463\n",
            "Learning rate : 0.05 Train score : 0.9546911110679536 CV_Score : 0.9485163147901279\n",
            "Learning rate : 0.09 Train score : 0.9669262589578761 CV_Score : 0.9580134930526618\n",
            "Learning rate : 0.1 Train score : 0.9685381911401992 CV_Score : 0.9594118718499397\n",
            "Learning rate : 0.2 Train score : 0.9794527198927968 CV_Score : 0.9651412867424535\n",
            "Learning rate : 0.5 Train score : 0.9931638538773766 CV_Score : 0.9692197108685445\n",
            "Learning rate : 0.7 Train score : 0.9965430851993552 CV_Score : 0.9693945548857636\n",
            "Learning rate : 1 Train score : 0.9990289565166728 CV_Score : 0.9688313651250974\n"
          ]
        }
      ],
      "source": [
        "for lr in [0.01,0.02,0.03,0.04,0.05,0.09,0.1,0.2,0.5,0.7,1]:\n",
        "    model = XGBClassifier(learning_rate = lr, n_estimators=100, verbosity = 0) \n",
        "    model.fit(x_train,y_train) \n",
        "    model.score(x_test, y_test) \n",
        "    print('Learning rate :', lr, 'Train score :', model.score(x_train,y_train), 'CV_Score :', np.mean(cross_val_score(model, x_train, y_train, cv=10))) "
      ]
    },
    {
      "cell_type": "code",
      "execution_count": 343,
      "metadata": {
        "id": "e0lNZ-olsQQf",
        "colab": {
          "base_uri": "https://localhost:8080/"
        },
        "outputId": "e306d84b-d7d6-440c-f50a-2492cf415528"
      },
      "outputs": [
        {
          "output_type": "stream",
          "name": "stdout",
          "text": [
            "Training Accuracy : 0.9750830242178244\n",
            "Testing Accuracy : 0.8662302043705211\n",
            "AUCROC Score : 0.8444598081239645\n"
          ]
        }
      ],
      "source": [
        "tree = XGBClassifier(learning_rate = 0.16, n_estimators=100, verbosity = 0)\n",
        "tree.fit(x_train,y_train)\n",
        "y_pred_x = tree.predict(x_test)\n",
        "\n",
        "print(\"Training Accuracy :\",tree.score(x_train,y_train))\n",
        "print(\"Testing Accuracy :\",tree.score(x_test,y_test))\n",
        "print(\"AUCROC Score :\", roc_auc_score(y_test,y_pred_x))"
      ]
    },
    {
      "cell_type": "code",
      "execution_count": 344,
      "metadata": {
        "id": "F_ODxnnVstNT"
      },
      "outputs": [],
      "source": [
        "from sklearn.ensemble import VotingClassifier\n",
        "from sklearn import tree\n",
        "m1 = LogisticRegression(random_state = 15)\n",
        "m2 = KNeighborsClassifier(5)\n",
        "m3 = tree.DecisionTreeClassifier(random_state = 15)\n",
        "m4 = XGBClassifier(learning_rate = 0.75, estimator = 100, verbosity = 0)\n",
        "m5 = RandomForestClassifier( max_depth = 6, max_features = 'sqrt')\n",
        "m = VotingClassifier(estimators = [('lr',m1),('dt',m2),('knn',m3),('xgb',m4), ('rf',m5)], voting = 'soft')"
      ]
    },
    {
      "cell_type": "code",
      "execution_count": 345,
      "metadata": {
        "id": "P0GMl3wqmaiZ"
      },
      "outputs": [],
      "source": [
        "m.fit(x_train, y_train)\n",
        "y_pred = m.predict(x_test)\n",
        "v = roc_auc_score(y_test,m.predict_proba(x_test)[:, 1])\n"
      ]
    },
    {
      "cell_type": "code",
      "source": [
        "estimator = []\n",
        "estimator.append(('LR', \n",
        "                  LogisticRegression(solver ='lbfgs', \n",
        "                                     multi_class ='multinomial', \n",
        "                                     max_iter = 200)))\n",
        "estimator.append(('SVC', SVC(gamma ='auto', probability = True)))\n",
        "estimator.append(('DTC', DecisionTreeClassifier()))\n",
        "estimator.append(('KNN', KNeighborsClassifier()))\n",
        "estimator.append(('RF', RandomForestClassifier()))\n",
        "estimator.append(('XGB', XGBClassifier()))"
      ],
      "metadata": {
        "id": "oobRpLQyZpHq"
      },
      "execution_count": 346,
      "outputs": []
    },
    {
      "cell_type": "code",
      "source": [
        "# Voting Classifier with soft voting\n",
        "vot_soft = VotingClassifier(estimators = estimator, voting ='soft')\n",
        "vot_soft.fit(x_train, y_train)\n",
        "y_pred = vot_soft.predict(x_test)\n",
        "  \n",
        "# using accuracy_score\n",
        "score = accuracy_score(y_test, y_pred)\n",
        "print(\"Soft Voting Score % d\" % score)"
      ],
      "metadata": {
        "id": "o86Sh9PDqT-W"
      },
      "execution_count": null,
      "outputs": []
    },
    {
      "cell_type": "code",
      "source": [
        "vot_hard = VotingClassifier(estimators = estimator, voting ='hard')\n",
        "vot_hard.fit(x_train, y_train)\n",
        "y_pred = vot_hard.predict(x_test)\n",
        "  \n",
        "# using accuracy_score metric to predict accuracy\n",
        "score = accuracy_score(y_test, y_pred)\n",
        "print(\"Hard Voting Score % d\" % score)"
      ],
      "metadata": {
        "id": "Q-zQdBbMqUtO"
      },
      "execution_count": null,
      "outputs": []
    }
  ]
}